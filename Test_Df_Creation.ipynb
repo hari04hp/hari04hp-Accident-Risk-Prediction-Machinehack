{
 "cells": [
  {
   "cell_type": "code",
   "execution_count": 1,
   "metadata": {},
   "outputs": [],
   "source": [
    "import pandas as pd\n",
    "import numpy as np"
   ]
  },
  {
   "cell_type": "code",
   "execution_count": 2,
   "metadata": {},
   "outputs": [],
   "source": [
    "pd.set_option('display.max_rows', None)"
   ]
  },
  {
   "cell_type": "code",
   "execution_count": 3,
   "metadata": {},
   "outputs": [],
   "source": [
    "given_test_df = pd.read_csv('data/test.csv')\n",
    "test_df = pd.DataFrame(given_test_df['postcode'].unique())"
   ]
  },
  {
   "cell_type": "code",
   "execution_count": 4,
   "metadata": {},
   "outputs": [
    {
     "data": {
      "text/html": [
       "<div>\n",
       "<style scoped>\n",
       "    .dataframe tbody tr th:only-of-type {\n",
       "        vertical-align: middle;\n",
       "    }\n",
       "\n",
       "    .dataframe tbody tr th {\n",
       "        vertical-align: top;\n",
       "    }\n",
       "\n",
       "    .dataframe thead th {\n",
       "        text-align: right;\n",
       "    }\n",
       "</style>\n",
       "<table border=\"1\" class=\"dataframe\">\n",
       "  <thead>\n",
       "    <tr style=\"text-align: right;\">\n",
       "      <th></th>\n",
       "      <th>Accident_ID</th>\n",
       "      <th>Police_Force</th>\n",
       "      <th>Number_of_Vehicles</th>\n",
       "      <th>Number_of_Casualties</th>\n",
       "      <th>Date</th>\n",
       "      <th>Day_of_Week</th>\n",
       "      <th>Time</th>\n",
       "      <th>Local_Authority_(District)</th>\n",
       "      <th>Local_Authority_(Highway)</th>\n",
       "      <th>1st_Road_Class</th>\n",
       "      <th>...</th>\n",
       "      <th>Light_Conditions</th>\n",
       "      <th>Weather_Conditions</th>\n",
       "      <th>Road_Surface_Conditions</th>\n",
       "      <th>Special_Conditions_at_Site</th>\n",
       "      <th>Carriageway_Hazards</th>\n",
       "      <th>Urban_or_Rural_Area</th>\n",
       "      <th>Did_Police_Officer_Attend_Scene_of_Accident</th>\n",
       "      <th>state</th>\n",
       "      <th>postcode</th>\n",
       "      <th>country</th>\n",
       "    </tr>\n",
       "  </thead>\n",
       "  <tbody>\n",
       "    <tr>\n",
       "      <th>0</th>\n",
       "      <td>14</td>\n",
       "      <td>13</td>\n",
       "      <td>2</td>\n",
       "      <td>0</td>\n",
       "      <td>06/10/13</td>\n",
       "      <td>6</td>\n",
       "      <td>13:28</td>\n",
       "      <td>218</td>\n",
       "      <td>E10000032</td>\n",
       "      <td>4</td>\n",
       "      <td>...</td>\n",
       "      <td>Daylight: Street light present</td>\n",
       "      <td>Snowing without high winds</td>\n",
       "      <td>Dry</td>\n",
       "      <td>None</td>\n",
       "      <td>None</td>\n",
       "      <td>2</td>\n",
       "      <td>Yes</td>\n",
       "      <td>England</td>\n",
       "      <td>HX2 8WH</td>\n",
       "      <td>United Kingdom</td>\n",
       "    </tr>\n",
       "    <tr>\n",
       "      <th>1</th>\n",
       "      <td>17</td>\n",
       "      <td>13</td>\n",
       "      <td>2</td>\n",
       "      <td>0</td>\n",
       "      <td>22/04/13</td>\n",
       "      <td>7</td>\n",
       "      <td>9:30</td>\n",
       "      <td>157</td>\n",
       "      <td>E10000034</td>\n",
       "      <td>6</td>\n",
       "      <td>...</td>\n",
       "      <td>Daylight: Street light present</td>\n",
       "      <td>Fine without high winds</td>\n",
       "      <td>Dry</td>\n",
       "      <td>None</td>\n",
       "      <td>None</td>\n",
       "      <td>1</td>\n",
       "      <td>No</td>\n",
       "      <td>England</td>\n",
       "      <td>RM8 1DD</td>\n",
       "      <td>United Kingdom</td>\n",
       "    </tr>\n",
       "    <tr>\n",
       "      <th>2</th>\n",
       "      <td>21</td>\n",
       "      <td>13</td>\n",
       "      <td>2</td>\n",
       "      <td>0</td>\n",
       "      <td>27/09/13</td>\n",
       "      <td>3</td>\n",
       "      <td>19:10</td>\n",
       "      <td>155</td>\n",
       "      <td>E09000012</td>\n",
       "      <td>3</td>\n",
       "      <td>...</td>\n",
       "      <td>Daylight: Street light present</td>\n",
       "      <td>Fine without high winds</td>\n",
       "      <td>Wet/Damp</td>\n",
       "      <td>None</td>\n",
       "      <td>None</td>\n",
       "      <td>1</td>\n",
       "      <td>Yes</td>\n",
       "      <td>England</td>\n",
       "      <td>SE23 1NH</td>\n",
       "      <td>United Kingdom</td>\n",
       "    </tr>\n",
       "    <tr>\n",
       "      <th>3</th>\n",
       "      <td>23</td>\n",
       "      <td>13</td>\n",
       "      <td>2</td>\n",
       "      <td>0</td>\n",
       "      <td>13/03/13</td>\n",
       "      <td>4</td>\n",
       "      <td>9:19</td>\n",
       "      <td>26</td>\n",
       "      <td>E10000016</td>\n",
       "      <td>4</td>\n",
       "      <td>...</td>\n",
       "      <td>Daylight: Street light present</td>\n",
       "      <td>Fine without high winds</td>\n",
       "      <td>Dry</td>\n",
       "      <td>None</td>\n",
       "      <td>None</td>\n",
       "      <td>1</td>\n",
       "      <td>Yes</td>\n",
       "      <td>England</td>\n",
       "      <td>HU10 7QS</td>\n",
       "      <td>United Kingdom</td>\n",
       "    </tr>\n",
       "    <tr>\n",
       "      <th>4</th>\n",
       "      <td>28</td>\n",
       "      <td>14</td>\n",
       "      <td>2</td>\n",
       "      <td>0</td>\n",
       "      <td>13/06/13</td>\n",
       "      <td>1</td>\n",
       "      <td>14:59</td>\n",
       "      <td>6</td>\n",
       "      <td>E08000012</td>\n",
       "      <td>4</td>\n",
       "      <td>...</td>\n",
       "      <td>Daylight: Street light present</td>\n",
       "      <td>Fine without high winds</td>\n",
       "      <td>Dry</td>\n",
       "      <td>None</td>\n",
       "      <td>None</td>\n",
       "      <td>1</td>\n",
       "      <td>Yes</td>\n",
       "      <td>England</td>\n",
       "      <td>BD23 5JL</td>\n",
       "      <td>United Kingdom</td>\n",
       "    </tr>\n",
       "  </tbody>\n",
       "</table>\n",
       "<p>5 rows × 27 columns</p>\n",
       "</div>"
      ],
      "text/plain": [
       "   Accident_ID  Police_Force  Number_of_Vehicles  Number_of_Casualties  \\\n",
       "0           14            13                   2                     0   \n",
       "1           17            13                   2                     0   \n",
       "2           21            13                   2                     0   \n",
       "3           23            13                   2                     0   \n",
       "4           28            14                   2                     0   \n",
       "\n",
       "       Date  Day_of_Week   Time  Local_Authority_(District)  \\\n",
       "0  06/10/13            6  13:28                         218   \n",
       "1  22/04/13            7   9:30                         157   \n",
       "2  27/09/13            3  19:10                         155   \n",
       "3  13/03/13            4   9:19                          26   \n",
       "4  13/06/13            1  14:59                           6   \n",
       "\n",
       "  Local_Authority_(Highway)  1st_Road_Class  ...  \\\n",
       "0                 E10000032               4  ...   \n",
       "1                 E10000034               6  ...   \n",
       "2                 E09000012               3  ...   \n",
       "3                 E10000016               4  ...   \n",
       "4                 E08000012               4  ...   \n",
       "\n",
       "                 Light_Conditions          Weather_Conditions  \\\n",
       "0  Daylight: Street light present  Snowing without high winds   \n",
       "1  Daylight: Street light present     Fine without high winds   \n",
       "2  Daylight: Street light present     Fine without high winds   \n",
       "3  Daylight: Street light present     Fine without high winds   \n",
       "4  Daylight: Street light present     Fine without high winds   \n",
       "\n",
       "   Road_Surface_Conditions  Special_Conditions_at_Site  Carriageway_Hazards  \\\n",
       "0                      Dry                        None                 None   \n",
       "1                      Dry                        None                 None   \n",
       "2                 Wet/Damp                        None                 None   \n",
       "3                      Dry                        None                 None   \n",
       "4                      Dry                        None                 None   \n",
       "\n",
       "  Urban_or_Rural_Area Did_Police_Officer_Attend_Scene_of_Accident    state  \\\n",
       "0                   2                                         Yes  England   \n",
       "1                   1                                          No  England   \n",
       "2                   1                                         Yes  England   \n",
       "3                   1                                         Yes  England   \n",
       "4                   1                                         Yes  England   \n",
       "\n",
       "   postcode         country  \n",
       "0   HX2 8WH  United Kingdom  \n",
       "1   RM8 1DD  United Kingdom  \n",
       "2  SE23 1NH  United Kingdom  \n",
       "3  HU10 7QS  United Kingdom  \n",
       "4  BD23 5JL  United Kingdom  \n",
       "\n",
       "[5 rows x 27 columns]"
      ]
     },
     "execution_count": 4,
     "metadata": {},
     "output_type": "execute_result"
    }
   ],
   "source": [
    "given_test_df.head()"
   ]
  },
  {
   "cell_type": "code",
   "execution_count": null,
   "metadata": {},
   "outputs": [],
   "source": [
    "test_df = test_df.rename({0:'postcode'}, axis = 1)\n",
    "print(test_df.shape)\n",
    "test_df.head()"
   ]
  },
  {
   "cell_type": "code",
   "execution_count": null,
   "metadata": {},
   "outputs": [],
   "source": [
    "\n",
    "def postcode_short_apply(x):\n",
    "    if x.find(' ') != -1:\n",
    "        return x[:x.find(' ') +2]\n",
    "    else:\n",
    "        return x\n",
    "\n",
    "def postcode_short_short_apply(x):\n",
    "    if x.find(' ') != -1:\n",
    "        return x[:x.find(' ')]\n",
    "    else:\n",
    "        return x\n",
    "\n",
    "test_df['postcode_short'] = test_df['postcode'].apply(postcode_short_apply)\n",
    "test_df['postcode_short_1'] = test_df['postcode'].apply(postcode_short_short_apply)"
   ]
  },
  {
   "cell_type": "markdown",
   "metadata": {},
   "source": [
    "#### General Functions"
   ]
  },
  {
   "cell_type": "code",
   "execution_count": 5,
   "metadata": {},
   "outputs": [],
   "source": [
    "from sklearn.preprocessing import MultiLabelBinarizer"
   ]
  },
  {
   "cell_type": "code",
   "execution_count": 6,
   "metadata": {},
   "outputs": [],
   "source": [
    "#Multi Label Binarizer function\n",
    "\n",
    "def do_multilabelbinarizer(series, col):\n",
    "    mlb = MultiLabelBinarizer()\n",
    "    series_index = series.index\n",
    "    t = pd.DataFrame(mlb.fit_transform(series))\n",
    "    t.index = series_index\n",
    "    print(mlb.classes_)\n",
    "    t.columns = [col + '_{0}'.format(col_class) for col_class in mlb.classes_]\n",
    "    return t\n",
    "    "
   ]
  },
  {
   "cell_type": "code",
   "execution_count": null,
   "metadata": {},
   "outputs": [],
   "source": [
    "def do_statistical(series,temp_df, col):\n",
    "    series_index = series.index\n",
    "    t = pd.DataFrame()\n",
    "    t.index = series_index\n",
    "\n",
    "    t[col + '_min'] = temp_df.groupby('postcode')[col].min()\n",
    "    t[col + '_mean'] = temp_df.groupby('postcode')[col].mean()\n",
    "    t[col + '_max'] = temp_df.groupby('postcode')[col].max()\n",
    "    return t\n"
   ]
  },
  {
   "cell_type": "code",
   "execution_count": null,
   "metadata": {},
   "outputs": [],
   "source": [
    "def do_statistical_sum(series,temp_df, col):\n",
    "    series_index = series.index\n",
    "    t = pd.DataFrame()\n",
    "    t.index = series_index\n",
    "    # print(t)\n",
    "    # print(temp_df.groupby('postcode')[col].min())\n",
    "    t[col + '_sum'] = temp_df.groupby('postcode')[col].sum()\n",
    "    return t"
   ]
  },
  {
   "cell_type": "code",
   "execution_count": null,
   "metadata": {},
   "outputs": [],
   "source": [
    "def do_or_and(series,temp_df, col):\n",
    "    series_index = series.index\n",
    "    t = pd.DataFrame()\n",
    "    t.index = series_index\n",
    "    # print(t)\n",
    "    # print(temp_df.groupby('postcode')[col].any())\n",
    "    t[col + '_or'] = temp_df.groupby('postcode')[col].any().replace(to_replace=[False, True], value=[0, 1])\n",
    "    t[col + '_and'] = temp_df.groupby('postcode')[col].all().replace(to_replace=[False, True], value=[0, 1])\n",
    "    return t"
   ]
  },
  {
   "cell_type": "code",
   "execution_count": null,
   "metadata": {},
   "outputs": [],
   "source": [
    "def do_cnt_by_cat_list(series, temp_df, col):\n",
    "    series_index = series.index\n",
    "    t = pd.DataFrame()\n",
    "    t.index = series_index\n",
    "    \n",
    "    t1 = temp_df.groupby(['postcode',col])['Accident_ID'].count().unstack(level=1)\n",
    "    t = t1.rename({class_col: '{0}_{1}_count'.format(col,class_col) for class_col in t1.columns}, axis=1)\n",
    "    return t"
   ]
  },
  {
   "cell_type": "code",
   "execution_count": 7,
   "metadata": {},
   "outputs": [],
   "source": [
    "import datetime\n",
    "def time_categorize(x):\n",
    "    try:\n",
    "        if np.isnan(float(x)):\n",
    "            return np.nan\n",
    "    except:\n",
    "        pass\n",
    "    x = datetime.datetime.strptime(x,'%H:%M').time()\n",
    "    if datetime.time(0,0,0) <= x <= datetime.time(8,0,0):\n",
    "        return '0_8'\n",
    "    if datetime.time(8,0,1) <= x <= datetime.time(16,0,0):\n",
    "        return '8_16'\n",
    "    if datetime.time(16,0,1) <= x <= datetime.time(23,59,59):\n",
    "        return '16_24'\n",
    "    \n"
   ]
  },
  {
   "cell_type": "markdown",
   "metadata": {},
   "source": [
    "### Population IDVs"
   ]
  },
  {
   "cell_type": "code",
   "execution_count": null,
   "metadata": {},
   "outputs": [],
   "source": [
    "population_df = pd.read_feather('data_feather/population_df_cleaned.feather')"
   ]
  },
  {
   "cell_type": "code",
   "execution_count": null,
   "metadata": {},
   "outputs": [],
   "source": [
    "test_df = test_df.merge(population_df.groupby('postcode_cleaned').mean(), how = 'left', left_on='postcode_short', right_on='postcode_cleaned')\n",
    "test_df.shape"
   ]
  },
  {
   "cell_type": "markdown",
   "metadata": {},
   "source": [
    "### RoadNetwork IDVs"
   ]
  },
  {
   "cell_type": "code",
   "execution_count": null,
   "metadata": {},
   "outputs": [],
   "source": [
    "roads_network_df_cleaned = pd.read_feather('data_feather/roads_network_df_cleaned.feather')\n",
    "roads_network_df_cleaned = roads_network_df_cleaned.set_index('index')"
   ]
  },
  {
   "cell_type": "code",
   "execution_count": null,
   "metadata": {},
   "outputs": [],
   "source": [
    "t1 = test_df.merge(roads_network_df_cleaned, how = 'left', left_on='postcode_short_1', right_index=True)\n",
    "t2 = t1.set_index('postcode_short')\n",
    "t2.update(roads_network_df_cleaned)\n",
    "t2 = t2.reset_index()\n",
    "t2 = t2.set_index('postcode')\n",
    "t2.update(roads_network_df_cleaned)\n",
    "t2 = t2.reset_index()\n",
    "t2.shape"
   ]
  },
  {
   "cell_type": "code",
   "execution_count": null,
   "metadata": {},
   "outputs": [],
   "source": [
    "test_df = t2.copy()\n",
    "test_df.shape"
   ]
  },
  {
   "cell_type": "code",
   "execution_count": null,
   "metadata": {},
   "outputs": [],
   "source": [
    "test_df.head()"
   ]
  },
  {
   "cell_type": "markdown",
   "metadata": {},
   "source": [
    "### Test DF"
   ]
  },
  {
   "cell_type": "code",
   "execution_count": null,
   "metadata": {},
   "outputs": [],
   "source": [
    "gt_mlb_col_list = ['Day_of_Week','1st_Road_Class', '2nd_Road_Class', 'Pedestrian_Crossing-Human_Control','Pedestrian_Crossing-Physical_Facilities',\t'Light_Conditions', 'Weather_Conditions', 'Road_Surface_Conditions', 'Special_Conditions_at_Site', 'Carriageway_Hazards', 'state', 'Road_Type', 'Speed_limit', 'Urban_or_Rural_Area' ]\n",
    "gt_statistical_calc_list = ['Police_Force', 'Number_of_Vehicles', ]\n",
    "gt_or_and_list = ['Did_Police_Officer_Attend_Scene_of_Accident']\n",
    "\n",
    "gt_cnt_by_cat_list = ['Road_Type', 'Speed_limit', 'Urban_or_Rural_Area']\n",
    "gt_special_columns = ['Police_Force_sum/Number_of_Vehicles_sum', 'Police_Force_mean/Number_of_Vehicles_mean','Time_category', '1st_Road_Number',]\n"
   ]
  },
  {
   "cell_type": "code",
   "execution_count": 8,
   "metadata": {},
   "outputs": [],
   "source": [
    "given_test_df_cleaned = pd.DataFrame(index = given_test_df['postcode'].unique())"
   ]
  },
  {
   "cell_type": "code",
   "execution_count": 9,
   "metadata": {},
   "outputs": [
    {
     "data": {
      "text/plain": [
       "(49772, 0)"
      ]
     },
     "execution_count": 9,
     "metadata": {},
     "output_type": "execute_result"
    }
   ],
   "source": [
    "given_test_df_cleaned.shape"
   ]
  },
  {
   "cell_type": "markdown",
   "metadata": {},
   "source": [
    "### Combine and create test\n",
    "##### For the given_test_cleaned, combine it with train_data since some are common and then create the idvs for them"
   ]
  },
  {
   "cell_type": "code",
   "execution_count": 10,
   "metadata": {},
   "outputs": [
    {
     "data": {
      "text/plain": [
       "((478741, 27), (121259, 27))"
      ]
     },
     "execution_count": 10,
     "metadata": {},
     "output_type": "execute_result"
    }
   ],
   "source": [
    "#Joining with train set\n",
    "given_train_df = pd.read_csv('data/train.csv')\n",
    "given_train_df.shape, given_test_df.shape"
   ]
  },
  {
   "cell_type": "code",
   "execution_count": 11,
   "metadata": {},
   "outputs": [
    {
     "data": {
      "text/plain": [
       "(600000, 27)"
      ]
     },
     "execution_count": 11,
     "metadata": {},
     "output_type": "execute_result"
    }
   ],
   "source": [
    "#run this only if you need to join and create test data\n",
    "given_test_df = pd.concat([given_test_df, given_train_df])\n",
    "given_test_df.shape"
   ]
  },
  {
   "cell_type": "markdown",
   "metadata": {},
   "source": [
    "### As Usual"
   ]
  },
  {
   "cell_type": "code",
   "execution_count": null,
   "metadata": {},
   "outputs": [],
   "source": [
    "for col in gt_mlb_col_list:\n",
    "    t = do_multilabelbinarizer(given_test_df.fillna('').groupby('postcode')[col].unique(), col)\n",
    "    given_test_df_cleaned = given_test_df_cleaned.merge(t, left_index = True, right_index=True, how = 'left')\n",
    "\n",
    "\n",
    "given_test_df_cleaned.head()"
   ]
  },
  {
   "cell_type": "code",
   "execution_count": null,
   "metadata": {},
   "outputs": [],
   "source": [
    "for col in gt_statistical_calc_list:\n",
    "    t = do_statistical(given_test_df.groupby('postcode')[col].unique(), given_test_df, col)\n",
    "    given_test_df_cleaned = given_test_df_cleaned.merge(t, left_index = True, right_index=True, how = 'left')\n",
    "\n",
    "given_test_df_cleaned.head()"
   ]
  },
  {
   "cell_type": "code",
   "execution_count": null,
   "metadata": {},
   "outputs": [],
   "source": [
    "for col in gt_statistical_calc_list:\n",
    "    t = do_statistical_sum(given_test_df.groupby('postcode')[col].unique(), given_test_df, col)\n",
    "    given_test_df_cleaned = given_test_df_cleaned.merge(t, left_index = True, right_index=True, how = 'left')\n",
    "\n",
    "given_test_df_cleaned.head()"
   ]
  },
  {
   "cell_type": "code",
   "execution_count": null,
   "metadata": {},
   "outputs": [],
   "source": [
    "for col in gt_or_and_list:\n",
    "    t = do_or_and(given_test_df.groupby('postcode')[col].unique(), given_test_df, col)\n",
    "    # print(t)\n",
    "    given_test_df_cleaned = given_test_df_cleaned.merge(t, left_index = True, right_index=True, how = 'left')\n",
    "\n",
    "given_test_df_cleaned.head()"
   ]
  },
  {
   "cell_type": "code",
   "execution_count": null,
   "metadata": {},
   "outputs": [],
   "source": [
    "for col in gt_cnt_by_cat_list:\n",
    "    t = do_cnt_by_cat_list(given_test_df.groupby('postcode')[col].unique(), given_test_df, col)\n",
    "    # print(t)\n",
    "    given_test_df_cleaned = given_test_df_cleaned.merge(t, left_index = True, right_index=True, how = 'left')\n",
    "\n",
    "given_test_df_cleaned.head()"
   ]
  },
  {
   "cell_type": "code",
   "execution_count": null,
   "metadata": {},
   "outputs": [],
   "source": [
    "\n",
    "gt_special_columns = ['Police_Force_sum/Number_of_Vehicles_sum', 'Police_Force_mean/Number_of_Vehicles_mean','Time_category', '1st_Road_Number',]\n",
    "given_test_df_cleaned['Police_Force_sum/Number_of_Vehicles_sum'] = given_test_df_cleaned['Police_Force_sum']/given_test_df_cleaned['Number_of_Vehicles_sum']\n",
    "given_test_df_cleaned['Police_Force_mean/Number_of_Vehicles_mean'] = given_test_df_cleaned['Police_Force_mean']/given_test_df_cleaned['Number_of_Vehicles_mean']"
   ]
  },
  {
   "cell_type": "code",
   "execution_count": null,
   "metadata": {},
   "outputs": [],
   "source": [
    "given_test_df['Time_category']  = given_test_df['Time'].apply(time_categorize)\n",
    "given_test_df.head()"
   ]
  },
  {
   "cell_type": "code",
   "execution_count": null,
   "metadata": {},
   "outputs": [],
   "source": [
    "for col in ['Time_category']:\n",
    "    t = do_cnt_by_cat_list(given_test_df.groupby('postcode')[col].unique(), given_test_df, col)\n",
    "    # print(t)\n",
    "    given_test_df_cleaned = given_test_df_cleaned.merge(t, left_index = True, right_index=True, how = 'left')\n",
    "\n",
    "given_test_df_cleaned.head()"
   ]
  },
  {
   "cell_type": "code",
   "execution_count": null,
   "metadata": {},
   "outputs": [],
   "source": [
    "road_num_count = given_test_df['1st_Road_Number'].value_counts().rename('1st_Road_Number_count') #just count \n",
    "t = given_test_df.groupby(['postcode','1st_Road_Number'])['Accident_ID'].count().reset_index().merge(road_num_count, how='left', left_on='1st_Road_Number', right_index=True) #merging with postcode\n",
    "t['1st_Road_Number_count>100'] = (t['1st_Road_Number_count']>100).replace(to_replace=[False,True], value=(0,1))#calculating how many are count > 100 for each postcode\n",
    "given_test_df_cleaned = given_test_df_cleaned.merge(t.groupby('postcode').sum()['1st_Road_Number_count>100'], how='left', left_index=True, right_index=True)"
   ]
  },
  {
   "cell_type": "code",
   "execution_count": null,
   "metadata": {},
   "outputs": [],
   "source": [
    "given_test_df_cleaned.shape"
   ]
  },
  {
   "cell_type": "code",
   "execution_count": null,
   "metadata": {},
   "outputs": [],
   "source": [
    "given_test_df_cleaned.reset_index().rename({'index':'postcode'}).to_feather('data_feather/given_test_df_cleaned_combined_1.feather')"
   ]
  },
  {
   "cell_type": "code",
   "execution_count": null,
   "metadata": {},
   "outputs": [],
   "source": [
    "test_df = test_df.merge(given_test_df_cleaned,how='left', right_index=True, left_on='postcode')\n",
    "print(test_df.shape)\n",
    "test_df.head()"
   ]
  },
  {
   "cell_type": "code",
   "execution_count": null,
   "metadata": {},
   "outputs": [],
   "source": [
    "train_df = pd.read_feather('data_feather/train_df_3.feather')\n",
    "train_df.head()"
   ]
  },
  {
   "cell_type": "markdown",
   "metadata": {},
   "source": [
    "### Imputation"
   ]
  },
  {
   "cell_type": "code",
   "execution_count": null,
   "metadata": {},
   "outputs": [],
   "source": [
    "print(test_df.isna().sum()[test_df.isna().sum() > 0])\n"
   ]
  },
  {
   "cell_type": "code",
   "execution_count": null,
   "metadata": {},
   "outputs": [],
   "source": [
    "import joblib"
   ]
  },
  {
   "cell_type": "code",
   "execution_count": null,
   "metadata": {},
   "outputs": [],
   "source": [
    "#Median\n",
    "median_categories = ['All usual residents', 'Males', 'Females', 'Lives in a household', 'Lives in a communal establishment', 'Schoolchild or full-time student aged 4 and over at their non term-time address', 'Road_Type_Single carriageway_count', 'Speed_limit_30_count', 'Urban_or_Rural_Area_1_count', 'Urban_or_Rural_Area_2_count', 'Time_category_16_24_count', 'Time_category_8_16_count', ]\n",
    "imp_median = joblib.load('data_feather/imp_median.pkl')\n",
    "test_df[median_categories] = imp_median.transform(test_df[median_categories])\n",
    "\n"
   ]
  },
  {
   "cell_type": "code",
   "execution_count": null,
   "metadata": {},
   "outputs": [],
   "source": [
    "#Mean\n",
    "mean_categories = ['Area (Hectares)', 'Density (number of persons per hectare)', 'length_min', 'length_mean', 'length_max', 'distance to the nearest point on rd_min', 'distance to the nearest point on rd_mean', 'distance to the nearest point on rd_max', ]\n",
    "imp_mean = joblib.load('data_feather/imp_mean.pkl')\n",
    "test_df[mean_categories] = imp_mean.transform(test_df[mean_categories])\n"
   ]
  },
  {
   "cell_type": "code",
   "execution_count": null,
   "metadata": {},
   "outputs": [],
   "source": [
    "#Impute NaN with 0\n",
    "zero_categories = ['roadClassi_', 'roadClassi_A Road', 'roadClassi_Motorway', 'roadFuncti_', 'roadFuncti_A Road', 'roadFuncti_Motorway', 'formOfWay_', 'formOfWay_Collapsed Dual Carriageway', 'formOfWay_Dual Carriageway', 'formOfWay_Roundabout', 'formOfWay_Single Carriageway', 'formOfWay_Slip Road', 'primaryRou_or', 'primaryRou_and', 'Road_Type_Dual carriageway_count', 'Road_Type_One way street_count', 'Road_Type_Roundabout_count', 'Road_Type_Single carriageway_count', 'Road_Type_Slip road_count', 'Road_Type_Unknown_count', 'Speed_limit_20_count', 'Speed_limit_30_count', 'Speed_limit_40_count', 'Speed_limit_50_count', 'Speed_limit_60_count', 'Speed_limit_70_count', 'Urban_or_Rural_Area_1_count', 'Urban_or_Rural_Area_2_count','Time_category_0_8_count', 'Time_category_16_24_count', 'Time_category_8_16_count']\n",
    "imp_zero = joblib.load('data_feather/imp_zero.pkl')\n",
    "test_df[zero_categories] = imp_zero.transform(test_df[zero_categories])\n"
   ]
  },
  {
   "cell_type": "code",
   "execution_count": null,
   "metadata": {},
   "outputs": [],
   "source": [
    "print(test_df.isna().sum()[test_df.isna().sum() > 0])\n"
   ]
  },
  {
   "cell_type": "code",
   "execution_count": null,
   "metadata": {},
   "outputs": [],
   "source": [
    "test_df.to_feather('data/test_df_processed_combined_1.feather')"
   ]
  },
  {
   "cell_type": "code",
   "execution_count": null,
   "metadata": {},
   "outputs": [],
   "source": [
    "test_df.head()"
   ]
  },
  {
   "cell_type": "code",
   "execution_count": null,
   "metadata": {},
   "outputs": [],
   "source": [
    "given_test_df.head()"
   ]
  },
  {
   "cell_type": "code",
   "execution_count": null,
   "metadata": {},
   "outputs": [],
   "source": [
    "for col in train_df.columns:\n",
    "    print(col)"
   ]
  },
  {
   "cell_type": "markdown",
   "metadata": {},
   "source": [
    "### Added New columns"
   ]
  },
  {
   "cell_type": "code",
   "execution_count": null,
   "metadata": {},
   "outputs": [],
   "source": [
    "train_df = pd.read_feather('data_feather/train_df_4.feather')\n",
    "print(train_df.shape)\n",
    "train_df.head()"
   ]
  },
  {
   "cell_type": "code",
   "execution_count": 12,
   "metadata": {},
   "outputs": [
    {
     "name": "stdout",
     "output_type": "stream",
     "text": [
      "(49772, 139)\n"
     ]
    },
    {
     "data": {
      "text/html": [
       "<div>\n",
       "<style scoped>\n",
       "    .dataframe tbody tr th:only-of-type {\n",
       "        vertical-align: middle;\n",
       "    }\n",
       "\n",
       "    .dataframe tbody tr th {\n",
       "        vertical-align: top;\n",
       "    }\n",
       "\n",
       "    .dataframe thead th {\n",
       "        text-align: right;\n",
       "    }\n",
       "</style>\n",
       "<table border=\"1\" class=\"dataframe\">\n",
       "  <thead>\n",
       "    <tr style=\"text-align: right;\">\n",
       "      <th></th>\n",
       "      <th>postcode</th>\n",
       "      <th>postcode_short</th>\n",
       "      <th>postcode_short_1</th>\n",
       "      <th>All usual residents</th>\n",
       "      <th>Males</th>\n",
       "      <th>Females</th>\n",
       "      <th>Lives in a household</th>\n",
       "      <th>Lives in a communal establishment</th>\n",
       "      <th>Schoolchild or full-time student aged 4 and over at their non term-time address</th>\n",
       "      <th>Area (Hectares)</th>\n",
       "      <th>...</th>\n",
       "      <th>Speed_limit_60_count</th>\n",
       "      <th>Speed_limit_70_count</th>\n",
       "      <th>Urban_or_Rural_Area_1_count</th>\n",
       "      <th>Urban_or_Rural_Area_2_count</th>\n",
       "      <th>Police_Force_sum/Number_of_Vehicles_sum</th>\n",
       "      <th>Police_Force_mean/Number_of_Vehicles_mean</th>\n",
       "      <th>Time_category_0_8_count</th>\n",
       "      <th>Time_category_16_24_count</th>\n",
       "      <th>Time_category_8_16_count</th>\n",
       "      <th>1st_Road_Number_count&gt;100</th>\n",
       "    </tr>\n",
       "  </thead>\n",
       "  <tbody>\n",
       "    <tr>\n",
       "      <th>0</th>\n",
       "      <td>HX2 8WH</td>\n",
       "      <td>HX2 8</td>\n",
       "      <td>HX2</td>\n",
       "      <td>7032.0</td>\n",
       "      <td>3411.0</td>\n",
       "      <td>3621.0</td>\n",
       "      <td>7027.0</td>\n",
       "      <td>5.0</td>\n",
       "      <td>37.0</td>\n",
       "      <td>577.28</td>\n",
       "      <td>...</td>\n",
       "      <td>1.000000</td>\n",
       "      <td>1.155255</td>\n",
       "      <td>9.0</td>\n",
       "      <td>3.0</td>\n",
       "      <td>5.545455</td>\n",
       "      <td>5.545455</td>\n",
       "      <td>1.000000</td>\n",
       "      <td>5.0</td>\n",
       "      <td>6.0</td>\n",
       "      <td>9</td>\n",
       "    </tr>\n",
       "    <tr>\n",
       "      <th>1</th>\n",
       "      <td>RM8 1DD</td>\n",
       "      <td>RM8 1</td>\n",
       "      <td>RM8</td>\n",
       "      <td>11371.0</td>\n",
       "      <td>5450.0</td>\n",
       "      <td>5921.0</td>\n",
       "      <td>11314.0</td>\n",
       "      <td>57.0</td>\n",
       "      <td>110.0</td>\n",
       "      <td>221.90</td>\n",
       "      <td>...</td>\n",
       "      <td>1.560634</td>\n",
       "      <td>1.155255</td>\n",
       "      <td>5.0</td>\n",
       "      <td>2.0</td>\n",
       "      <td>10.500000</td>\n",
       "      <td>10.500000</td>\n",
       "      <td>1.000000</td>\n",
       "      <td>2.0</td>\n",
       "      <td>4.0</td>\n",
       "      <td>4</td>\n",
       "    </tr>\n",
       "    <tr>\n",
       "      <th>2</th>\n",
       "      <td>SE23 1NH</td>\n",
       "      <td>SE23 1</td>\n",
       "      <td>SE23</td>\n",
       "      <td>8639.0</td>\n",
       "      <td>4196.0</td>\n",
       "      <td>4443.0</td>\n",
       "      <td>8611.0</td>\n",
       "      <td>28.0</td>\n",
       "      <td>80.0</td>\n",
       "      <td>97.97</td>\n",
       "      <td>...</td>\n",
       "      <td>1.560634</td>\n",
       "      <td>1.155255</td>\n",
       "      <td>4.0</td>\n",
       "      <td>2.0</td>\n",
       "      <td>5.000000</td>\n",
       "      <td>5.000000</td>\n",
       "      <td>1.298796</td>\n",
       "      <td>2.0</td>\n",
       "      <td>2.0</td>\n",
       "      <td>2</td>\n",
       "    </tr>\n",
       "    <tr>\n",
       "      <th>3</th>\n",
       "      <td>HU10 7QS</td>\n",
       "      <td>HU10 7</td>\n",
       "      <td>HU10</td>\n",
       "      <td>8147.0</td>\n",
       "      <td>3981.0</td>\n",
       "      <td>4166.0</td>\n",
       "      <td>8030.0</td>\n",
       "      <td>117.0</td>\n",
       "      <td>132.0</td>\n",
       "      <td>812.91</td>\n",
       "      <td>...</td>\n",
       "      <td>1.560634</td>\n",
       "      <td>1.155255</td>\n",
       "      <td>4.0</td>\n",
       "      <td>2.0</td>\n",
       "      <td>11.571429</td>\n",
       "      <td>11.571429</td>\n",
       "      <td>1.298796</td>\n",
       "      <td>1.0</td>\n",
       "      <td>3.0</td>\n",
       "      <td>2</td>\n",
       "    </tr>\n",
       "    <tr>\n",
       "      <th>4</th>\n",
       "      <td>BD23 5JL</td>\n",
       "      <td>BD23 5</td>\n",
       "      <td>BD23</td>\n",
       "      <td>3485.0</td>\n",
       "      <td>1654.0</td>\n",
       "      <td>1831.0</td>\n",
       "      <td>3376.0</td>\n",
       "      <td>109.0</td>\n",
       "      <td>76.0</td>\n",
       "      <td>26528.38</td>\n",
       "      <td>...</td>\n",
       "      <td>1.560634</td>\n",
       "      <td>1.155255</td>\n",
       "      <td>12.0</td>\n",
       "      <td>1.0</td>\n",
       "      <td>8.880000</td>\n",
       "      <td>8.880000</td>\n",
       "      <td>1.298796</td>\n",
       "      <td>3.0</td>\n",
       "      <td>10.0</td>\n",
       "      <td>11</td>\n",
       "    </tr>\n",
       "  </tbody>\n",
       "</table>\n",
       "<p>5 rows × 139 columns</p>\n",
       "</div>"
      ],
      "text/plain": [
       "   postcode postcode_short postcode_short_1  All usual residents   Males  \\\n",
       "0   HX2 8WH          HX2 8              HX2               7032.0  3411.0   \n",
       "1   RM8 1DD          RM8 1              RM8              11371.0  5450.0   \n",
       "2  SE23 1NH         SE23 1             SE23               8639.0  4196.0   \n",
       "3  HU10 7QS         HU10 7             HU10               8147.0  3981.0   \n",
       "4  BD23 5JL         BD23 5             BD23               3485.0  1654.0   \n",
       "\n",
       "   Females  Lives in a household  Lives in a communal establishment  \\\n",
       "0   3621.0                7027.0                                5.0   \n",
       "1   5921.0               11314.0                               57.0   \n",
       "2   4443.0                8611.0                               28.0   \n",
       "3   4166.0                8030.0                              117.0   \n",
       "4   1831.0                3376.0                              109.0   \n",
       "\n",
       "   Schoolchild or full-time student aged 4 and over at their non term-time address  \\\n",
       "0                                               37.0                                 \n",
       "1                                              110.0                                 \n",
       "2                                               80.0                                 \n",
       "3                                              132.0                                 \n",
       "4                                               76.0                                 \n",
       "\n",
       "   Area (Hectares)  ...  Speed_limit_60_count  Speed_limit_70_count  \\\n",
       "0           577.28  ...              1.000000              1.155255   \n",
       "1           221.90  ...              1.560634              1.155255   \n",
       "2            97.97  ...              1.560634              1.155255   \n",
       "3           812.91  ...              1.560634              1.155255   \n",
       "4         26528.38  ...              1.560634              1.155255   \n",
       "\n",
       "   Urban_or_Rural_Area_1_count  Urban_or_Rural_Area_2_count  \\\n",
       "0                          9.0                          3.0   \n",
       "1                          5.0                          2.0   \n",
       "2                          4.0                          2.0   \n",
       "3                          4.0                          2.0   \n",
       "4                         12.0                          1.0   \n",
       "\n",
       "   Police_Force_sum/Number_of_Vehicles_sum  \\\n",
       "0                                 5.545455   \n",
       "1                                10.500000   \n",
       "2                                 5.000000   \n",
       "3                                11.571429   \n",
       "4                                 8.880000   \n",
       "\n",
       "   Police_Force_mean/Number_of_Vehicles_mean  Time_category_0_8_count  \\\n",
       "0                                   5.545455                 1.000000   \n",
       "1                                  10.500000                 1.000000   \n",
       "2                                   5.000000                 1.298796   \n",
       "3                                  11.571429                 1.298796   \n",
       "4                                   8.880000                 1.298796   \n",
       "\n",
       "   Time_category_16_24_count  Time_category_8_16_count  \\\n",
       "0                        5.0                       6.0   \n",
       "1                        2.0                       4.0   \n",
       "2                        2.0                       2.0   \n",
       "3                        1.0                       3.0   \n",
       "4                        3.0                      10.0   \n",
       "\n",
       "   1st_Road_Number_count>100  \n",
       "0                          9  \n",
       "1                          4  \n",
       "2                          2  \n",
       "3                          2  \n",
       "4                         11  \n",
       "\n",
       "[5 rows x 139 columns]"
      ]
     },
     "execution_count": 12,
     "metadata": {},
     "output_type": "execute_result"
    }
   ],
   "source": [
    "# test_df = pd.read_feather('data_feather/test_df_processed.feather')\n",
    "test_df = pd.read_feather('data_feather/test_df_processed_combined_1.feather')\n",
    "print(test_df.shape)\n",
    "test_df.head()"
   ]
  },
  {
   "cell_type": "code",
   "execution_count": 13,
   "metadata": {},
   "outputs": [
    {
     "data": {
      "text/html": [
       "<div>\n",
       "<style scoped>\n",
       "    .dataframe tbody tr th:only-of-type {\n",
       "        vertical-align: middle;\n",
       "    }\n",
       "\n",
       "    .dataframe tbody tr th {\n",
       "        vertical-align: top;\n",
       "    }\n",
       "\n",
       "    .dataframe thead th {\n",
       "        text-align: right;\n",
       "    }\n",
       "</style>\n",
       "<table border=\"1\" class=\"dataframe\">\n",
       "  <thead>\n",
       "    <tr style=\"text-align: right;\">\n",
       "      <th></th>\n",
       "      <th>Accident_ID</th>\n",
       "      <th>Police_Force</th>\n",
       "      <th>Number_of_Vehicles</th>\n",
       "      <th>Number_of_Casualties</th>\n",
       "      <th>Date</th>\n",
       "      <th>Day_of_Week</th>\n",
       "      <th>Time</th>\n",
       "      <th>Local_Authority_(District)</th>\n",
       "      <th>Local_Authority_(Highway)</th>\n",
       "      <th>1st_Road_Class</th>\n",
       "      <th>...</th>\n",
       "      <th>Weather_Conditions</th>\n",
       "      <th>Road_Surface_Conditions</th>\n",
       "      <th>Special_Conditions_at_Site</th>\n",
       "      <th>Carriageway_Hazards</th>\n",
       "      <th>Urban_or_Rural_Area</th>\n",
       "      <th>Did_Police_Officer_Attend_Scene_of_Accident</th>\n",
       "      <th>state</th>\n",
       "      <th>postcode</th>\n",
       "      <th>country</th>\n",
       "      <th>Time_category</th>\n",
       "    </tr>\n",
       "  </thead>\n",
       "  <tbody>\n",
       "    <tr>\n",
       "      <th>0</th>\n",
       "      <td>14</td>\n",
       "      <td>13</td>\n",
       "      <td>2</td>\n",
       "      <td>0</td>\n",
       "      <td>06/10/13</td>\n",
       "      <td>6</td>\n",
       "      <td>13:28</td>\n",
       "      <td>218</td>\n",
       "      <td>E10000032</td>\n",
       "      <td>4</td>\n",
       "      <td>...</td>\n",
       "      <td>Snowing without high winds</td>\n",
       "      <td>Dry</td>\n",
       "      <td>None</td>\n",
       "      <td>None</td>\n",
       "      <td>2</td>\n",
       "      <td>Yes</td>\n",
       "      <td>England</td>\n",
       "      <td>HX2 8WH</td>\n",
       "      <td>United Kingdom</td>\n",
       "      <td>8_16</td>\n",
       "    </tr>\n",
       "    <tr>\n",
       "      <th>1</th>\n",
       "      <td>17</td>\n",
       "      <td>13</td>\n",
       "      <td>2</td>\n",
       "      <td>0</td>\n",
       "      <td>22/04/13</td>\n",
       "      <td>7</td>\n",
       "      <td>9:30</td>\n",
       "      <td>157</td>\n",
       "      <td>E10000034</td>\n",
       "      <td>6</td>\n",
       "      <td>...</td>\n",
       "      <td>Fine without high winds</td>\n",
       "      <td>Dry</td>\n",
       "      <td>None</td>\n",
       "      <td>None</td>\n",
       "      <td>1</td>\n",
       "      <td>No</td>\n",
       "      <td>England</td>\n",
       "      <td>RM8 1DD</td>\n",
       "      <td>United Kingdom</td>\n",
       "      <td>8_16</td>\n",
       "    </tr>\n",
       "    <tr>\n",
       "      <th>2</th>\n",
       "      <td>21</td>\n",
       "      <td>13</td>\n",
       "      <td>2</td>\n",
       "      <td>0</td>\n",
       "      <td>27/09/13</td>\n",
       "      <td>3</td>\n",
       "      <td>19:10</td>\n",
       "      <td>155</td>\n",
       "      <td>E09000012</td>\n",
       "      <td>3</td>\n",
       "      <td>...</td>\n",
       "      <td>Fine without high winds</td>\n",
       "      <td>Wet/Damp</td>\n",
       "      <td>None</td>\n",
       "      <td>None</td>\n",
       "      <td>1</td>\n",
       "      <td>Yes</td>\n",
       "      <td>England</td>\n",
       "      <td>SE23 1NH</td>\n",
       "      <td>United Kingdom</td>\n",
       "      <td>16_24</td>\n",
       "    </tr>\n",
       "    <tr>\n",
       "      <th>3</th>\n",
       "      <td>23</td>\n",
       "      <td>13</td>\n",
       "      <td>2</td>\n",
       "      <td>0</td>\n",
       "      <td>13/03/13</td>\n",
       "      <td>4</td>\n",
       "      <td>9:19</td>\n",
       "      <td>26</td>\n",
       "      <td>E10000016</td>\n",
       "      <td>4</td>\n",
       "      <td>...</td>\n",
       "      <td>Fine without high winds</td>\n",
       "      <td>Dry</td>\n",
       "      <td>None</td>\n",
       "      <td>None</td>\n",
       "      <td>1</td>\n",
       "      <td>Yes</td>\n",
       "      <td>England</td>\n",
       "      <td>HU10 7QS</td>\n",
       "      <td>United Kingdom</td>\n",
       "      <td>8_16</td>\n",
       "    </tr>\n",
       "    <tr>\n",
       "      <th>4</th>\n",
       "      <td>28</td>\n",
       "      <td>14</td>\n",
       "      <td>2</td>\n",
       "      <td>0</td>\n",
       "      <td>13/06/13</td>\n",
       "      <td>1</td>\n",
       "      <td>14:59</td>\n",
       "      <td>6</td>\n",
       "      <td>E08000012</td>\n",
       "      <td>4</td>\n",
       "      <td>...</td>\n",
       "      <td>Fine without high winds</td>\n",
       "      <td>Dry</td>\n",
       "      <td>None</td>\n",
       "      <td>None</td>\n",
       "      <td>1</td>\n",
       "      <td>Yes</td>\n",
       "      <td>England</td>\n",
       "      <td>BD23 5JL</td>\n",
       "      <td>United Kingdom</td>\n",
       "      <td>8_16</td>\n",
       "    </tr>\n",
       "  </tbody>\n",
       "</table>\n",
       "<p>5 rows × 28 columns</p>\n",
       "</div>"
      ],
      "text/plain": [
       "   Accident_ID  Police_Force  Number_of_Vehicles  Number_of_Casualties  \\\n",
       "0           14            13                   2                     0   \n",
       "1           17            13                   2                     0   \n",
       "2           21            13                   2                     0   \n",
       "3           23            13                   2                     0   \n",
       "4           28            14                   2                     0   \n",
       "\n",
       "       Date  Day_of_Week   Time  Local_Authority_(District)  \\\n",
       "0  06/10/13            6  13:28                         218   \n",
       "1  22/04/13            7   9:30                         157   \n",
       "2  27/09/13            3  19:10                         155   \n",
       "3  13/03/13            4   9:19                          26   \n",
       "4  13/06/13            1  14:59                           6   \n",
       "\n",
       "  Local_Authority_(Highway)  1st_Road_Class  ...          Weather_Conditions  \\\n",
       "0                 E10000032               4  ...  Snowing without high winds   \n",
       "1                 E10000034               6  ...     Fine without high winds   \n",
       "2                 E09000012               3  ...     Fine without high winds   \n",
       "3                 E10000016               4  ...     Fine without high winds   \n",
       "4                 E08000012               4  ...     Fine without high winds   \n",
       "\n",
       "  Road_Surface_Conditions  Special_Conditions_at_Site  Carriageway_Hazards  \\\n",
       "0                     Dry                        None                 None   \n",
       "1                     Dry                        None                 None   \n",
       "2                Wet/Damp                        None                 None   \n",
       "3                     Dry                        None                 None   \n",
       "4                     Dry                        None                 None   \n",
       "\n",
       "   Urban_or_Rural_Area Did_Police_Officer_Attend_Scene_of_Accident    state  \\\n",
       "0                    2                                         Yes  England   \n",
       "1                    1                                          No  England   \n",
       "2                    1                                         Yes  England   \n",
       "3                    1                                         Yes  England   \n",
       "4                    1                                         Yes  England   \n",
       "\n",
       "   postcode         country Time_category  \n",
       "0   HX2 8WH  United Kingdom          8_16  \n",
       "1   RM8 1DD  United Kingdom          8_16  \n",
       "2  SE23 1NH  United Kingdom         16_24  \n",
       "3  HU10 7QS  United Kingdom          8_16  \n",
       "4  BD23 5JL  United Kingdom          8_16  \n",
       "\n",
       "[5 rows x 28 columns]"
      ]
     },
     "execution_count": 13,
     "metadata": {},
     "output_type": "execute_result"
    }
   ],
   "source": [
    "given_test_df['Time_category']  = given_test_df['Time'].apply(time_categorize)\n",
    "given_test_df.head()"
   ]
  },
  {
   "cell_type": "code",
   "execution_count": 14,
   "metadata": {},
   "outputs": [],
   "source": [
    "#Only for combined\n",
    "given_test_df = given_test_df.reset_index().drop('index', axis = 1)"
   ]
  },
  {
   "cell_type": "code",
   "execution_count": 15,
   "metadata": {},
   "outputs": [
    {
     "data": {
      "text/plain": [
       "(600000, 5)"
      ]
     },
     "execution_count": 15,
     "metadata": {},
     "output_type": "execute_result"
    }
   ],
   "source": [
    "from category_encoders import TargetEncoder\n",
    "import joblib\n",
    "t_encoder = joblib.load( 't_encoder.pkl')\n",
    "\n",
    "t_enc_list = ['1st_Road_Class','Urban_or_Rural_Area','Speed_limit','Day_of_Week','Time_category',]\n",
    "t_enc_out = t_encoder.transform(given_test_df[t_enc_list])\n",
    "t_enc_out.shape"
   ]
  },
  {
   "cell_type": "code",
   "execution_count": 16,
   "metadata": {},
   "outputs": [
    {
     "data": {
      "text/html": [
       "<div>\n",
       "<style scoped>\n",
       "    .dataframe tbody tr th:only-of-type {\n",
       "        vertical-align: middle;\n",
       "    }\n",
       "\n",
       "    .dataframe tbody tr th {\n",
       "        vertical-align: top;\n",
       "    }\n",
       "\n",
       "    .dataframe thead th {\n",
       "        text-align: right;\n",
       "    }\n",
       "</style>\n",
       "<table border=\"1\" class=\"dataframe\">\n",
       "  <thead>\n",
       "    <tr style=\"text-align: right;\">\n",
       "      <th></th>\n",
       "      <th>1st_Road_Class_t_enc</th>\n",
       "      <th>Urban_or_Rural_Area_t_enc</th>\n",
       "      <th>Speed_limit_t_enc</th>\n",
       "      <th>Day_of_Week_t_enc</th>\n",
       "      <th>Time_category_t_enc</th>\n",
       "    </tr>\n",
       "  </thead>\n",
       "  <tbody>\n",
       "    <tr>\n",
       "      <th>0</th>\n",
       "      <td>1.467137</td>\n",
       "      <td>1.473621</td>\n",
       "      <td>1.472095</td>\n",
       "      <td>1.463941</td>\n",
       "      <td>1.464339</td>\n",
       "    </tr>\n",
       "    <tr>\n",
       "      <th>1</th>\n",
       "      <td>1.449474</td>\n",
       "      <td>1.456742</td>\n",
       "      <td>1.456428</td>\n",
       "      <td>1.461146</td>\n",
       "      <td>1.464339</td>\n",
       "    </tr>\n",
       "    <tr>\n",
       "      <th>2</th>\n",
       "      <td>1.477160</td>\n",
       "      <td>1.456742</td>\n",
       "      <td>1.488362</td>\n",
       "      <td>1.463686</td>\n",
       "      <td>1.462345</td>\n",
       "    </tr>\n",
       "    <tr>\n",
       "      <th>3</th>\n",
       "      <td>1.467137</td>\n",
       "      <td>1.456742</td>\n",
       "      <td>1.456428</td>\n",
       "      <td>1.464252</td>\n",
       "      <td>1.464339</td>\n",
       "    </tr>\n",
       "    <tr>\n",
       "      <th>4</th>\n",
       "      <td>1.467137</td>\n",
       "      <td>1.456742</td>\n",
       "      <td>1.456428</td>\n",
       "      <td>1.458004</td>\n",
       "      <td>1.464339</td>\n",
       "    </tr>\n",
       "    <tr>\n",
       "      <th>5</th>\n",
       "      <td>1.449474</td>\n",
       "      <td>1.456742</td>\n",
       "      <td>1.456428</td>\n",
       "      <td>1.461146</td>\n",
       "      <td>1.464339</td>\n",
       "    </tr>\n",
       "    <tr>\n",
       "      <th>6</th>\n",
       "      <td>1.477160</td>\n",
       "      <td>1.473621</td>\n",
       "      <td>1.488437</td>\n",
       "      <td>1.463941</td>\n",
       "      <td>1.464339</td>\n",
       "    </tr>\n",
       "    <tr>\n",
       "      <th>7</th>\n",
       "      <td>1.477160</td>\n",
       "      <td>1.473621</td>\n",
       "      <td>1.456428</td>\n",
       "      <td>1.465034</td>\n",
       "      <td>1.463926</td>\n",
       "    </tr>\n",
       "    <tr>\n",
       "      <th>8</th>\n",
       "      <td>1.467137</td>\n",
       "      <td>1.473621</td>\n",
       "      <td>1.472095</td>\n",
       "      <td>1.464252</td>\n",
       "      <td>1.462345</td>\n",
       "    </tr>\n",
       "    <tr>\n",
       "      <th>9</th>\n",
       "      <td>1.477160</td>\n",
       "      <td>1.473621</td>\n",
       "      <td>1.472095</td>\n",
       "      <td>1.463941</td>\n",
       "      <td>1.462345</td>\n",
       "    </tr>\n",
       "  </tbody>\n",
       "</table>\n",
       "</div>"
      ],
      "text/plain": [
       "   1st_Road_Class_t_enc  Urban_or_Rural_Area_t_enc  Speed_limit_t_enc  \\\n",
       "0              1.467137                   1.473621           1.472095   \n",
       "1              1.449474                   1.456742           1.456428   \n",
       "2              1.477160                   1.456742           1.488362   \n",
       "3              1.467137                   1.456742           1.456428   \n",
       "4              1.467137                   1.456742           1.456428   \n",
       "5              1.449474                   1.456742           1.456428   \n",
       "6              1.477160                   1.473621           1.488437   \n",
       "7              1.477160                   1.473621           1.456428   \n",
       "8              1.467137                   1.473621           1.472095   \n",
       "9              1.477160                   1.473621           1.472095   \n",
       "\n",
       "   Day_of_Week_t_enc  Time_category_t_enc  \n",
       "0           1.463941             1.464339  \n",
       "1           1.461146             1.464339  \n",
       "2           1.463686             1.462345  \n",
       "3           1.464252             1.464339  \n",
       "4           1.458004             1.464339  \n",
       "5           1.461146             1.464339  \n",
       "6           1.463941             1.464339  \n",
       "7           1.465034             1.463926  \n",
       "8           1.464252             1.462345  \n",
       "9           1.463941             1.462345  "
      ]
     },
     "execution_count": 16,
     "metadata": {},
     "output_type": "execute_result"
    }
   ],
   "source": [
    "t_enc_out = t_enc_out.rename({col: col + '_t_enc' for col in t_enc_out.columns}, axis = 1)\n",
    "t_enc_out[:10]"
   ]
  },
  {
   "cell_type": "code",
   "execution_count": 17,
   "metadata": {},
   "outputs": [
    {
     "data": {
      "text/plain": [
       "(600000, 33)"
      ]
     },
     "execution_count": 17,
     "metadata": {},
     "output_type": "execute_result"
    }
   ],
   "source": [
    "given_test_df = given_test_df.merge( t_enc_out, left_index=True, right_index=True)\n",
    "given_test_df.shape"
   ]
  },
  {
   "cell_type": "code",
   "execution_count": 25,
   "metadata": {},
   "outputs": [],
   "source": [
    "\n",
    "given_test_df_cleaned = given_test_df_cleaned.reset_index().rename({'index':'postcode'}, axis = 1)"
   ]
  },
  {
   "cell_type": "code",
   "execution_count": 26,
   "metadata": {},
   "outputs": [
    {
     "data": {
      "text/html": [
       "<div>\n",
       "<style scoped>\n",
       "    .dataframe tbody tr th:only-of-type {\n",
       "        vertical-align: middle;\n",
       "    }\n",
       "\n",
       "    .dataframe tbody tr th {\n",
       "        vertical-align: top;\n",
       "    }\n",
       "\n",
       "    .dataframe thead th {\n",
       "        text-align: right;\n",
       "    }\n",
       "</style>\n",
       "<table border=\"1\" class=\"dataframe\">\n",
       "  <thead>\n",
       "    <tr style=\"text-align: right;\">\n",
       "      <th></th>\n",
       "      <th>postcode</th>\n",
       "    </tr>\n",
       "  </thead>\n",
       "  <tbody>\n",
       "    <tr>\n",
       "      <th>0</th>\n",
       "      <td>HX2 8WH</td>\n",
       "    </tr>\n",
       "    <tr>\n",
       "      <th>1</th>\n",
       "      <td>RM8 1DD</td>\n",
       "    </tr>\n",
       "    <tr>\n",
       "      <th>2</th>\n",
       "      <td>SE23 1NH</td>\n",
       "    </tr>\n",
       "    <tr>\n",
       "      <th>3</th>\n",
       "      <td>HU10 7QS</td>\n",
       "    </tr>\n",
       "    <tr>\n",
       "      <th>4</th>\n",
       "      <td>BD23 5JL</td>\n",
       "    </tr>\n",
       "  </tbody>\n",
       "</table>\n",
       "</div>"
      ],
      "text/plain": [
       "   postcode\n",
       "0   HX2 8WH\n",
       "1   RM8 1DD\n",
       "2  SE23 1NH\n",
       "3  HU10 7QS\n",
       "4  BD23 5JL"
      ]
     },
     "execution_count": 26,
     "metadata": {},
     "output_type": "execute_result"
    }
   ],
   "source": [
    "given_test_df_cleaned.head()"
   ]
  },
  {
   "cell_type": "code",
   "execution_count": 27,
   "metadata": {},
   "outputs": [
    {
     "data": {
      "text/plain": [
       "(49772, 6)"
      ]
     },
     "execution_count": 27,
     "metadata": {},
     "output_type": "execute_result"
    }
   ],
   "source": [
    "given_test_df_cleaned = given_test_df_cleaned.merge(given_test_df.groupby('postcode').mean()[[col+ '_t_enc' for col in t_enc_list]], how='left', left_on = 'postcode', right_index=True)\n",
    "given_test_df_cleaned.shape"
   ]
  },
  {
   "cell_type": "code",
   "execution_count": 28,
   "metadata": {},
   "outputs": [
    {
     "data": {
      "text/plain": [
       "(49772, 7)"
      ]
     },
     "execution_count": 28,
     "metadata": {},
     "output_type": "execute_result"
    }
   ],
   "source": [
    "#no. of accidents\n",
    "given_test_df_cleaned = given_test_df_cleaned.merge(given_test_df.groupby('postcode').count()['Accident_ID'].rename('No. Of Accidents'), how='left', left_on = 'postcode', right_index=True)\n",
    "given_test_df_cleaned.shape"
   ]
  },
  {
   "cell_type": "code",
   "execution_count": 29,
   "metadata": {},
   "outputs": [
    {
     "name": "stdout",
     "output_type": "stream",
     "text": [
      "['' '0_8' '16_24' '8_16']\n"
     ]
    },
    {
     "data": {
      "text/plain": [
       "(49772, 10)"
      ]
     },
     "execution_count": 29,
     "metadata": {},
     "output_type": "execute_result"
    }
   ],
   "source": [
    "for col in ['Time_category']:\n",
    "    t = do_multilabelbinarizer(given_test_df.fillna('').groupby('postcode')[col].unique(), col)\n",
    "    # print(t)\n",
    "    given_test_df_cleaned = given_test_df_cleaned.merge(t, left_on='postcode', right_index=True, how = 'left')\n",
    "\n",
    "given_test_df_cleaned.head()\n",
    "\n",
    "#We don't need Time_category_\n",
    "given_test_df_cleaned = given_test_df_cleaned.drop([ 'Time_category_'\t],axis = 1)\n",
    "given_test_df_cleaned.shape"
   ]
  },
  {
   "cell_type": "code",
   "execution_count": 30,
   "metadata": {},
   "outputs": [
    {
     "data": {
      "text/plain": [
       "(49772, 17)"
      ]
     },
     "execution_count": 30,
     "metadata": {},
     "output_type": "execute_result"
    }
   ],
   "source": [
    "given_test_df_cleaned = given_test_df_cleaned.merge(test_df[['Day_of_Week_1','Day_of_Week_2','Day_of_Week_3','Day_of_Week_4','Day_of_Week_5','Day_of_Week_6','Day_of_Week_7','postcode']], \n",
    "left_on='postcode', right_on='postcode')\n",
    "given_test_df_cleaned.shape"
   ]
  },
  {
   "cell_type": "code",
   "execution_count": 31,
   "metadata": {},
   "outputs": [
    {
     "data": {
      "text/plain": [
       "(49772, 38)"
      ]
     },
     "execution_count": 31,
     "metadata": {},
     "output_type": "execute_result"
    }
   ],
   "source": [
    "for date_col in ['Day_of_Week_1','Day_of_Week_2','Day_of_Week_3','Day_of_Week_4','Day_of_Week_5','Day_of_Week_6','Day_of_Week_7',]:\n",
    "    for time_col in ['Time_category_0_8','Time_category_16_24','Time_category_8_16']:\n",
    "        given_test_df_cleaned[date_col + '_and_' + time_col] = given_test_df_cleaned[date_col] & given_test_df_cleaned[time_col]\n",
    "\n",
    "given_test_df_cleaned.shape"
   ]
  },
  {
   "cell_type": "code",
   "execution_count": 32,
   "metadata": {},
   "outputs": [
    {
     "name": "stdout",
     "output_type": "stream",
     "text": [
      "(49772, 169)\n"
     ]
    },
    {
     "data": {
      "text/html": [
       "<div>\n",
       "<style scoped>\n",
       "    .dataframe tbody tr th:only-of-type {\n",
       "        vertical-align: middle;\n",
       "    }\n",
       "\n",
       "    .dataframe tbody tr th {\n",
       "        vertical-align: top;\n",
       "    }\n",
       "\n",
       "    .dataframe thead th {\n",
       "        text-align: right;\n",
       "    }\n",
       "</style>\n",
       "<table border=\"1\" class=\"dataframe\">\n",
       "  <thead>\n",
       "    <tr style=\"text-align: right;\">\n",
       "      <th></th>\n",
       "      <th>postcode</th>\n",
       "      <th>postcode_short</th>\n",
       "      <th>postcode_short_1</th>\n",
       "      <th>All usual residents</th>\n",
       "      <th>Males</th>\n",
       "      <th>Females</th>\n",
       "      <th>Lives in a household</th>\n",
       "      <th>Lives in a communal establishment</th>\n",
       "      <th>Schoolchild or full-time student aged 4 and over at their non term-time address</th>\n",
       "      <th>Area (Hectares)</th>\n",
       "      <th>...</th>\n",
       "      <th>Day_of_Week_4_and_Time_category_8_16</th>\n",
       "      <th>Day_of_Week_5_and_Time_category_0_8</th>\n",
       "      <th>Day_of_Week_5_and_Time_category_16_24</th>\n",
       "      <th>Day_of_Week_5_and_Time_category_8_16</th>\n",
       "      <th>Day_of_Week_6_and_Time_category_0_8</th>\n",
       "      <th>Day_of_Week_6_and_Time_category_16_24</th>\n",
       "      <th>Day_of_Week_6_and_Time_category_8_16</th>\n",
       "      <th>Day_of_Week_7_and_Time_category_0_8</th>\n",
       "      <th>Day_of_Week_7_and_Time_category_16_24</th>\n",
       "      <th>Day_of_Week_7_and_Time_category_8_16</th>\n",
       "    </tr>\n",
       "  </thead>\n",
       "  <tbody>\n",
       "    <tr>\n",
       "      <th>0</th>\n",
       "      <td>HX2 8WH</td>\n",
       "      <td>HX2 8</td>\n",
       "      <td>HX2</td>\n",
       "      <td>7032.0</td>\n",
       "      <td>3411.0</td>\n",
       "      <td>3621.0</td>\n",
       "      <td>7027.0</td>\n",
       "      <td>5.0</td>\n",
       "      <td>37.0</td>\n",
       "      <td>577.28</td>\n",
       "      <td>...</td>\n",
       "      <td>1</td>\n",
       "      <td>1</td>\n",
       "      <td>1</td>\n",
       "      <td>1</td>\n",
       "      <td>1</td>\n",
       "      <td>1</td>\n",
       "      <td>1</td>\n",
       "      <td>1</td>\n",
       "      <td>1</td>\n",
       "      <td>1</td>\n",
       "    </tr>\n",
       "    <tr>\n",
       "      <th>1</th>\n",
       "      <td>RM8 1DD</td>\n",
       "      <td>RM8 1</td>\n",
       "      <td>RM8</td>\n",
       "      <td>11371.0</td>\n",
       "      <td>5450.0</td>\n",
       "      <td>5921.0</td>\n",
       "      <td>11314.0</td>\n",
       "      <td>57.0</td>\n",
       "      <td>110.0</td>\n",
       "      <td>221.90</td>\n",
       "      <td>...</td>\n",
       "      <td>0</td>\n",
       "      <td>1</td>\n",
       "      <td>0</td>\n",
       "      <td>1</td>\n",
       "      <td>1</td>\n",
       "      <td>0</td>\n",
       "      <td>1</td>\n",
       "      <td>1</td>\n",
       "      <td>0</td>\n",
       "      <td>1</td>\n",
       "    </tr>\n",
       "    <tr>\n",
       "      <th>2</th>\n",
       "      <td>SE23 1NH</td>\n",
       "      <td>SE23 1</td>\n",
       "      <td>SE23</td>\n",
       "      <td>8639.0</td>\n",
       "      <td>4196.0</td>\n",
       "      <td>4443.0</td>\n",
       "      <td>8611.0</td>\n",
       "      <td>28.0</td>\n",
       "      <td>80.0</td>\n",
       "      <td>97.97</td>\n",
       "      <td>...</td>\n",
       "      <td>0</td>\n",
       "      <td>0</td>\n",
       "      <td>1</td>\n",
       "      <td>1</td>\n",
       "      <td>0</td>\n",
       "      <td>0</td>\n",
       "      <td>0</td>\n",
       "      <td>0</td>\n",
       "      <td>0</td>\n",
       "      <td>0</td>\n",
       "    </tr>\n",
       "    <tr>\n",
       "      <th>3</th>\n",
       "      <td>HU10 7QS</td>\n",
       "      <td>HU10 7</td>\n",
       "      <td>HU10</td>\n",
       "      <td>8147.0</td>\n",
       "      <td>3981.0</td>\n",
       "      <td>4166.0</td>\n",
       "      <td>8030.0</td>\n",
       "      <td>117.0</td>\n",
       "      <td>132.0</td>\n",
       "      <td>812.91</td>\n",
       "      <td>...</td>\n",
       "      <td>1</td>\n",
       "      <td>0</td>\n",
       "      <td>0</td>\n",
       "      <td>0</td>\n",
       "      <td>0</td>\n",
       "      <td>1</td>\n",
       "      <td>1</td>\n",
       "      <td>0</td>\n",
       "      <td>1</td>\n",
       "      <td>1</td>\n",
       "    </tr>\n",
       "    <tr>\n",
       "      <th>4</th>\n",
       "      <td>BD23 5JL</td>\n",
       "      <td>BD23 5</td>\n",
       "      <td>BD23</td>\n",
       "      <td>3485.0</td>\n",
       "      <td>1654.0</td>\n",
       "      <td>1831.0</td>\n",
       "      <td>3376.0</td>\n",
       "      <td>109.0</td>\n",
       "      <td>76.0</td>\n",
       "      <td>26528.38</td>\n",
       "      <td>...</td>\n",
       "      <td>0</td>\n",
       "      <td>0</td>\n",
       "      <td>1</td>\n",
       "      <td>1</td>\n",
       "      <td>0</td>\n",
       "      <td>1</td>\n",
       "      <td>1</td>\n",
       "      <td>0</td>\n",
       "      <td>1</td>\n",
       "      <td>1</td>\n",
       "    </tr>\n",
       "  </tbody>\n",
       "</table>\n",
       "<p>5 rows × 169 columns</p>\n",
       "</div>"
      ],
      "text/plain": [
       "   postcode postcode_short postcode_short_1  All usual residents   Males  \\\n",
       "0   HX2 8WH          HX2 8              HX2               7032.0  3411.0   \n",
       "1   RM8 1DD          RM8 1              RM8              11371.0  5450.0   \n",
       "2  SE23 1NH         SE23 1             SE23               8639.0  4196.0   \n",
       "3  HU10 7QS         HU10 7             HU10               8147.0  3981.0   \n",
       "4  BD23 5JL         BD23 5             BD23               3485.0  1654.0   \n",
       "\n",
       "   Females  Lives in a household  Lives in a communal establishment  \\\n",
       "0   3621.0                7027.0                                5.0   \n",
       "1   5921.0               11314.0                               57.0   \n",
       "2   4443.0                8611.0                               28.0   \n",
       "3   4166.0                8030.0                              117.0   \n",
       "4   1831.0                3376.0                              109.0   \n",
       "\n",
       "   Schoolchild or full-time student aged 4 and over at their non term-time address  \\\n",
       "0                                               37.0                                 \n",
       "1                                              110.0                                 \n",
       "2                                               80.0                                 \n",
       "3                                              132.0                                 \n",
       "4                                               76.0                                 \n",
       "\n",
       "   Area (Hectares)  ...  Day_of_Week_4_and_Time_category_8_16  \\\n",
       "0           577.28  ...                                     1   \n",
       "1           221.90  ...                                     0   \n",
       "2            97.97  ...                                     0   \n",
       "3           812.91  ...                                     1   \n",
       "4         26528.38  ...                                     0   \n",
       "\n",
       "   Day_of_Week_5_and_Time_category_0_8  Day_of_Week_5_and_Time_category_16_24  \\\n",
       "0                                    1                                      1   \n",
       "1                                    1                                      0   \n",
       "2                                    0                                      1   \n",
       "3                                    0                                      0   \n",
       "4                                    0                                      1   \n",
       "\n",
       "   Day_of_Week_5_and_Time_category_8_16  Day_of_Week_6_and_Time_category_0_8  \\\n",
       "0                                     1                                    1   \n",
       "1                                     1                                    1   \n",
       "2                                     1                                    0   \n",
       "3                                     0                                    0   \n",
       "4                                     1                                    0   \n",
       "\n",
       "   Day_of_Week_6_and_Time_category_16_24  \\\n",
       "0                                      1   \n",
       "1                                      0   \n",
       "2                                      0   \n",
       "3                                      1   \n",
       "4                                      1   \n",
       "\n",
       "   Day_of_Week_6_and_Time_category_8_16  Day_of_Week_7_and_Time_category_0_8  \\\n",
       "0                                     1                                    1   \n",
       "1                                     1                                    1   \n",
       "2                                     0                                    0   \n",
       "3                                     1                                    0   \n",
       "4                                     1                                    0   \n",
       "\n",
       "   Day_of_Week_7_and_Time_category_16_24  Day_of_Week_7_and_Time_category_8_16  \n",
       "0                                      1                                     1  \n",
       "1                                      0                                     1  \n",
       "2                                      0                                     0  \n",
       "3                                      1                                     1  \n",
       "4                                      1                                     1  \n",
       "\n",
       "[5 rows x 169 columns]"
      ]
     },
     "execution_count": 32,
     "metadata": {},
     "output_type": "execute_result"
    }
   ],
   "source": [
    "test_df = test_df.merge(given_test_df_cleaned[[col+ '_t_enc' for col in t_enc_list] + ['No. Of Accidents',] + ['Time_category_0_8', 'Time_category_16_24','Time_category_8_16', 'Day_of_Week_1_and_Time_category_0_8', 'Day_of_Week_1_and_Time_category_16_24', 'Day_of_Week_1_and_Time_category_8_16', 'Day_of_Week_2_and_Time_category_0_8', 'Day_of_Week_2_and_Time_category_16_24', 'Day_of_Week_2_and_Time_category_8_16', 'Day_of_Week_3_and_Time_category_0_8', 'Day_of_Week_3_and_Time_category_16_24', 'Day_of_Week_3_and_Time_category_8_16', 'Day_of_Week_4_and_Time_category_0_8', 'Day_of_Week_4_and_Time_category_16_24', 'Day_of_Week_4_and_Time_category_8_16', 'Day_of_Week_5_and_Time_category_0_8', 'Day_of_Week_5_and_Time_category_16_24', 'Day_of_Week_5_and_Time_category_8_16', 'Day_of_Week_6_and_Time_category_0_8', 'Day_of_Week_6_and_Time_category_16_24', 'Day_of_Week_6_and_Time_category_8_16', 'Day_of_Week_7_and_Time_category_0_8', 'Day_of_Week_7_and_Time_category_16_24', \n",
    "'Day_of_Week_7_and_Time_category_8_16','postcode']], how='left', left_on = 'postcode', right_on = 'postcode')\n",
    "print(test_df.shape)\n",
    "test_df.head()"
   ]
  },
  {
   "cell_type": "code",
   "execution_count": 33,
   "metadata": {},
   "outputs": [],
   "source": [
    "test_df.to_feather('data_feather/test_df_processed_combined_2.feather')\n",
    "# test_df.to_feather('data_feather/test_df_processed_2.feather')"
   ]
  },
  {
   "cell_type": "code",
   "execution_count": null,
   "metadata": {},
   "outputs": [],
   "source": [
    "test_df = pd.read_feather('data_feather/test_df_processed_2.feather')\n",
    "test_df.shape"
   ]
  },
  {
   "cell_type": "code",
   "execution_count": null,
   "metadata": {},
   "outputs": [],
   "source": [
    "# test_df.to_feather('data_feather/test_df_processed_2.feather')"
   ]
  }
 ],
 "metadata": {
  "interpreter": {
   "hash": "56ea6b1a410015e1475253f98954e9fae7f33cff6f4b2c2a2a3b952fda68b31a"
  },
  "kernelspec": {
   "display_name": "Python 3.9.7 ('base')",
   "language": "python",
   "name": "python3"
  },
  "language_info": {
   "codemirror_mode": {
    "name": "ipython",
    "version": 3
   },
   "file_extension": ".py",
   "mimetype": "text/x-python",
   "name": "python",
   "nbconvert_exporter": "python",
   "pygments_lexer": "ipython3",
   "version": "3.9.7"
  },
  "orig_nbformat": 4
 },
 "nbformat": 4,
 "nbformat_minor": 2
}
