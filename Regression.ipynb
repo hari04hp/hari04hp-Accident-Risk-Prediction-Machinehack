{
 "cells": [
  {
   "cell_type": "code",
   "execution_count": 3,
   "metadata": {},
   "outputs": [],
   "source": [
    "from sklearn.linear_model import Lasso\n",
    "from sklearn.model_selection import train_test_split\n",
    "\n",
    "import pandas as pd\n",
    "import numpy as np\n",
    "from sklearn.metrics import mean_squared_error "
   ]
  },
  {
   "cell_type": "code",
   "execution_count": 4,
   "metadata": {},
   "outputs": [
    {
     "data": {
      "text/plain": [
       "((76500, 166), (19125, 166), (76500,), (19125,))"
      ]
     },
     "execution_count": 4,
     "metadata": {},
     "output_type": "execute_result"
    }
   ],
   "source": [
    "X_train = np.load( 'data/X_train_2.npy',allow_pickle=True)\n",
    "y_train = np.load( 'data/y_train_2.npy',allow_pickle=True)\n",
    "X_val = np.load('data/X_val_2.npy',allow_pickle=True)\n",
    "y_val = np.load('data/y_val_2.npy',allow_pickle=True)\n",
    "X_train.shape, X_val.shape, y_train.shape, y_val.shape"
   ]
  },
  {
   "cell_type": "code",
   "execution_count": 5,
   "metadata": {},
   "outputs": [
    {
     "data": {
      "text/plain": [
       "(0.4800419868611222, 0.4839273913661117)"
      ]
     },
     "execution_count": 5,
     "metadata": {},
     "output_type": "execute_result"
    }
   ],
   "source": [
    "model = Lasso(alpha=1.0)\n",
    "model.fit(X_train, y_train)\n",
    "\n",
    "train_predict = model.predict(X_train)\n",
    "val_predict = model.predict(X_val)\n",
    "\n",
    "train_rmse = np.sqrt(mean_squared_error(y_train, train_predict))\n",
    "val_rmse = np.sqrt(mean_squared_error(y_val, val_predict))\n",
    "\n",
    "train_rmse, val_rmse"
   ]
  },
  {
   "cell_type": "code",
   "execution_count": 6,
   "metadata": {},
   "outputs": [
    {
     "name": "stderr",
     "output_type": "stream",
     "text": [
      "\u001b[32m[I 2022-03-27 22:48:46,610]\u001b[0m A new study created in RDB with name: lasso-study_ver1\u001b[0m\n"
     ]
    },
    {
     "name": "stdout",
     "output_type": "stream",
     "text": [
      "A new study created in RDB with name: lasso-study_ver1\n"
     ]
    }
   ],
   "source": [
    "import optuna\n",
    "import logging\n",
    "import sys\n",
    "import os\n",
    "\n",
    "optuna.logging.get_logger(\"optuna\").addHandler(logging.StreamHandler(sys.stdout))\n",
    "\n",
    "study_name = \"lasso-study_ver1\"\n",
    "\n",
    "storage_name = \"sqlite:///{}/{}.db\".format(os.getcwd(), study_name) \n",
    "\n",
    "\n",
    "\n",
    "\n"
   ]
  },
  {
   "cell_type": "code",
   "execution_count": 26,
   "metadata": {},
   "outputs": [],
   "source": [
    "optuna.delete_study(study_name, storage_name)"
   ]
  },
  {
   "cell_type": "code",
   "execution_count": 27,
   "metadata": {},
   "outputs": [
    {
     "name": "stdout",
     "output_type": "stream",
     "text": [
      "A new study created in RDB with name: lasso-study_ver1\n"
     ]
    },
    {
     "name": "stderr",
     "output_type": "stream",
     "text": [
      "\u001b[32m[I 2022-03-27 23:02:07,066]\u001b[0m A new study created in RDB with name: lasso-study_ver1\u001b[0m\n"
     ]
    }
   ],
   "source": [
    "study = optuna.create_study(\n",
    "study_name=study_name,\n",
    "storage=storage_name,\n",
    "# load_if_exists=True,\n",
    "direction=\"minimize\",\n",
    ")"
   ]
  },
  {
   "cell_type": "code",
   "execution_count": 28,
   "metadata": {},
   "outputs": [],
   "source": [
    "\n",
    "def objective(trial):\n",
    "\n",
    "    alpha = trial.suggest_float(\"alpha\", 1e-5, 1)\n",
    "\n",
    "    print(alpha)\n",
    "    lasso_model = Lasso(\n",
    "        alpha = alpha,)\n",
    "        # normalize = True,)\n",
    "        # random_state = 25)\n",
    "    \n",
    "    lasso_model.fit(X_train, y_train)\n",
    "\n",
    "    train_predict = lasso_model.predict(X_train)\n",
    "    val_predict = lasso_model.predict(X_val)\n",
    "\n",
    "    train_rmse = np.sqrt(mean_squared_error(y_train, train_predict))\n",
    "    val_rmse = np.sqrt(mean_squared_error(y_val, val_predict))\n",
    "\n",
    "    trial.set_user_attr('train_rmse',train_rmse)\n",
    "    trial.set_user_attr('val_rmse',val_rmse)\n",
    "\n",
    "    return val_rmse\n"
   ]
  },
  {
   "cell_type": "code",
   "execution_count": 29,
   "metadata": {},
   "outputs": [
    {
     "name": "stderr",
     "output_type": "stream",
     "text": [
      "C:\\Users\\Haripriya\\anaconda3\\lib\\site-packages\\optuna\\progress_bar.py:47: ExperimentalWarning: Progress bar is experimental (supported from v1.2.0). The interface can change in the future.\n",
      "  self._init_valid()\n",
      "  0%|          | 0/20 [00:00<?, ?it/s]"
     ]
    },
    {
     "name": "stdout",
     "output_type": "stream",
     "text": [
      "0.7304518289965524\n",
      "Trial 0 finished with value: 0.483902883766806 and parameters: {'alpha': 0.7304518289965524}. Best is trial 0 with value: 0.483902883766806.\n"
     ]
    },
    {
     "name": "stderr",
     "output_type": "stream",
     "text": [
      "  5%|▌         | 1/20 [00:01<00:22,  1.16s/it]"
     ]
    },
    {
     "name": "stdout",
     "output_type": "stream",
     "text": [
      "\u001b[32m[I 2022-03-27 23:02:17,761]\u001b[0m Trial 0 finished with value: 0.483902883766806 and parameters: {'alpha': 0.7304518289965524}. Best is trial 0 with value: 0.483902883766806.\u001b[0m\n",
      "0.016967781738731553\n",
      "Trial 1 finished with value: 0.4834522105536552 and parameters: {'alpha': 0.016967781738731553}. Best is trial 1 with value: 0.4834522105536552.\n"
     ]
    },
    {
     "name": "stderr",
     "output_type": "stream",
     "text": [
      "C:\\Users\\Haripriya\\anaconda3\\lib\\site-packages\\sklearn\\linear_model\\_coordinate_descent.py:530: ConvergenceWarning: Objective did not converge. You might want to increase the number of iterations. Duality gap: 187.04057351122356, tolerance: 1.7655251119166566\n",
      "  model = cd_fast.enet_coordinate_descent(\n",
      " 10%|█         | 2/20 [00:17<03:00, 10.02s/it]"
     ]
    },
    {
     "name": "stdout",
     "output_type": "stream",
     "text": [
      "\u001b[32m[I 2022-03-27 23:02:33,984]\u001b[0m Trial 1 finished with value: 0.4834522105536552 and parameters: {'alpha': 0.016967781738731553}. Best is trial 1 with value: 0.4834522105536552.\u001b[0m\n",
      "0.983692271353257\n",
      "Trial 2 finished with value: 0.4839256959457846 and parameters: {'alpha': 0.983692271353257}. Best is trial 1 with value: 0.4834522105536552.\n"
     ]
    },
    {
     "name": "stderr",
     "output_type": "stream",
     "text": [
      " 15%|█▌        | 3/20 [00:18<01:41,  5.97s/it]"
     ]
    },
    {
     "name": "stdout",
     "output_type": "stream",
     "text": [
      "\u001b[32m[I 2022-03-27 23:02:35,129]\u001b[0m Trial 2 finished with value: 0.4839256959457846 and parameters: {'alpha': 0.983692271353257}. Best is trial 1 with value: 0.4834522105536552.\u001b[0m\n",
      "0.8623741480287739\n",
      "Trial 3 finished with value: 0.4839139431355538 and parameters: {'alpha': 0.8623741480287739}. Best is trial 1 with value: 0.4834522105536552.\n"
     ]
    },
    {
     "name": "stderr",
     "output_type": "stream",
     "text": [
      " 20%|██        | 4/20 [00:19<01:04,  4.06s/it]"
     ]
    },
    {
     "name": "stdout",
     "output_type": "stream",
     "text": [
      "\u001b[32m[I 2022-03-27 23:02:36,254]\u001b[0m Trial 3 finished with value: 0.4839139431355538 and parameters: {'alpha': 0.8623741480287739}. Best is trial 1 with value: 0.4834522105536552.\u001b[0m\n",
      "0.7910886801038345\n",
      "Trial 4 finished with value: 0.4839077444553385 and parameters: {'alpha': 0.7910886801038345}. Best is trial 1 with value: 0.4834522105536552.\n"
     ]
    },
    {
     "name": "stderr",
     "output_type": "stream",
     "text": [
      " 25%|██▌       | 5/20 [00:20<00:45,  3.01s/it]"
     ]
    },
    {
     "name": "stdout",
     "output_type": "stream",
     "text": [
      "\u001b[32m[I 2022-03-27 23:02:37,405]\u001b[0m Trial 4 finished with value: 0.4839077444553385 and parameters: {'alpha': 0.7910886801038345}. Best is trial 1 with value: 0.4834522105536552.\u001b[0m\n",
      "0.009948850395688318\n",
      "Trial 5 finished with value: 0.48336895232903687 and parameters: {'alpha': 0.009948850395688318}. Best is trial 5 with value: 0.48336895232903687.\n"
     ]
    },
    {
     "name": "stderr",
     "output_type": "stream",
     "text": [
      "C:\\Users\\Haripriya\\anaconda3\\lib\\site-packages\\sklearn\\linear_model\\_coordinate_descent.py:530: ConvergenceWarning: Objective did not converge. You might want to increase the number of iterations. Duality gap: 436.62957685833317, tolerance: 1.7655251119166566\n",
      "  model = cd_fast.enet_coordinate_descent(\n",
      " 30%|███       | 6/20 [00:36<01:43,  7.38s/it]"
     ]
    },
    {
     "name": "stdout",
     "output_type": "stream",
     "text": [
      "\u001b[32m[I 2022-03-27 23:02:53,260]\u001b[0m Trial 5 finished with value: 0.48336895232903687 and parameters: {'alpha': 0.009948850395688318}. Best is trial 5 with value: 0.48336895232903687.\u001b[0m\n",
      "0.46862517556642214\n",
      "Trial 6 finished with value: 0.48388624464108226 and parameters: {'alpha': 0.46862517556642214}. Best is trial 5 with value: 0.48336895232903687.\n"
     ]
    },
    {
     "name": "stderr",
     "output_type": "stream",
     "text": [
      " 35%|███▌      | 7/20 [00:37<01:09,  5.33s/it]"
     ]
    },
    {
     "name": "stdout",
     "output_type": "stream",
     "text": [
      "\u001b[32m[I 2022-03-27 23:02:54,385]\u001b[0m Trial 6 finished with value: 0.48388624464108226 and parameters: {'alpha': 0.46862517556642214}. Best is trial 5 with value: 0.48336895232903687.\u001b[0m\n",
      "0.9980159026766993\n",
      "Trial 7 finished with value: 0.4839271836273059 and parameters: {'alpha': 0.9980159026766993}. Best is trial 5 with value: 0.48336895232903687.\n"
     ]
    },
    {
     "name": "stderr",
     "output_type": "stream",
     "text": [
      " 40%|████      | 8/20 [00:38<00:47,  4.00s/it]"
     ]
    },
    {
     "name": "stdout",
     "output_type": "stream",
     "text": [
      "\u001b[32m[I 2022-03-27 23:02:55,524]\u001b[0m Trial 7 finished with value: 0.4839271836273059 and parameters: {'alpha': 0.9980159026766993}. Best is trial 5 with value: 0.48336895232903687.\u001b[0m\n",
      "0.5060891047325613\n",
      "Trial 8 finished with value: 0.48388819250482495 and parameters: {'alpha': 0.5060891047325613}. Best is trial 5 with value: 0.48336895232903687.\n"
     ]
    },
    {
     "name": "stderr",
     "output_type": "stream",
     "text": [
      " 45%|████▌     | 9/20 [00:40<00:34,  3.11s/it]"
     ]
    },
    {
     "name": "stdout",
     "output_type": "stream",
     "text": [
      "\u001b[32m[I 2022-03-27 23:02:56,668]\u001b[0m Trial 8 finished with value: 0.48388819250482495 and parameters: {'alpha': 0.5060891047325613}. Best is trial 5 with value: 0.48336895232903687.\u001b[0m\n",
      "0.8281025180890736\n",
      "Trial 9 finished with value: 0.48391089768233286 and parameters: {'alpha': 0.8281025180890736}. Best is trial 5 with value: 0.48336895232903687.\n"
     ]
    },
    {
     "name": "stderr",
     "output_type": "stream",
     "text": [
      " 50%|█████     | 10/20 [00:41<00:24,  2.50s/it]"
     ]
    },
    {
     "name": "stdout",
     "output_type": "stream",
     "text": [
      "\u001b[32m[I 2022-03-27 23:02:57,801]\u001b[0m Trial 9 finished with value: 0.48391089768233286 and parameters: {'alpha': 0.8281025180890736}. Best is trial 5 with value: 0.48336895232903687.\u001b[0m\n",
      "0.05035309922010134\n",
      "Trial 10 finished with value: 0.48362228061286644 and parameters: {'alpha': 0.05035309922010134}. Best is trial 5 with value: 0.48336895232903687.\n"
     ]
    },
    {
     "name": "stderr",
     "output_type": "stream",
     "text": [
      " 55%|█████▌    | 11/20 [00:47<00:31,  3.55s/it]"
     ]
    },
    {
     "name": "stdout",
     "output_type": "stream",
     "text": [
      "\u001b[32m[I 2022-03-27 23:03:03,731]\u001b[0m Trial 10 finished with value: 0.48362228061286644 and parameters: {'alpha': 0.05035309922010134}. Best is trial 5 with value: 0.48336895232903687.\u001b[0m\n",
      "0.008169850539650775\n"
     ]
    },
    {
     "name": "stderr",
     "output_type": "stream",
     "text": [
      "C:\\Users\\Haripriya\\anaconda3\\lib\\site-packages\\sklearn\\linear_model\\_coordinate_descent.py:530: ConvergenceWarning: Objective did not converge. You might want to increase the number of iterations. Duality gap: 1306.6240652730376, tolerance: 1.7655251119166566\n",
      "  model = cd_fast.enet_coordinate_descent(\n"
     ]
    },
    {
     "name": "stdout",
     "output_type": "stream",
     "text": [
      "Trial 11 finished with value: 0.48334494874374323 and parameters: {'alpha': 0.008169850539650775}. Best is trial 11 with value: 0.48334494874374323.\n"
     ]
    },
    {
     "name": "stderr",
     "output_type": "stream",
     "text": [
      " 60%|██████    | 12/20 [01:02<00:57,  7.24s/it]"
     ]
    },
    {
     "name": "stdout",
     "output_type": "stream",
     "text": [
      "\u001b[32m[I 2022-03-27 23:03:19,426]\u001b[0m Trial 11 finished with value: 0.48334494874374323 and parameters: {'alpha': 0.008169850539650775}. Best is trial 11 with value: 0.48334494874374323.\u001b[0m\n",
      "0.19866665378255227\n",
      "Trial 12 finished with value: 0.48387556695615686 and parameters: {'alpha': 0.19866665378255227}. Best is trial 11 with value: 0.48334494874374323.\n"
     ]
    },
    {
     "name": "stderr",
     "output_type": "stream",
     "text": [
      " 65%|██████▌   | 13/20 [01:04<00:38,  5.43s/it]"
     ]
    },
    {
     "name": "stdout",
     "output_type": "stream",
     "text": [
      "\u001b[32m[I 2022-03-27 23:03:20,701]\u001b[0m Trial 12 finished with value: 0.48387556695615686 and parameters: {'alpha': 0.19866665378255227}. Best is trial 11 with value: 0.48334494874374323.\u001b[0m\n",
      "0.24266902321190403\n",
      "Trial 13 finished with value: 0.4838771012177973 and parameters: {'alpha': 0.24266902321190403}. Best is trial 11 with value: 0.48334494874374323.\n"
     ]
    },
    {
     "name": "stderr",
     "output_type": "stream",
     "text": [
      " 70%|███████   | 14/20 [01:05<00:25,  4.19s/it]"
     ]
    },
    {
     "name": "stdout",
     "output_type": "stream",
     "text": [
      "\u001b[32m[I 2022-03-27 23:03:22,010]\u001b[0m Trial 13 finished with value: 0.4838771012177973 and parameters: {'alpha': 0.24266902321190403}. Best is trial 11 with value: 0.48334494874374323.\u001b[0m\n",
      "0.1971791487268369\n",
      "Trial 14 finished with value: 0.48387551865296996 and parameters: {'alpha': 0.1971791487268369}. Best is trial 11 with value: 0.48334494874374323.\n"
     ]
    },
    {
     "name": "stderr",
     "output_type": "stream",
     "text": [
      " 75%|███████▌  | 15/20 [01:06<00:16,  3.32s/it]"
     ]
    },
    {
     "name": "stdout",
     "output_type": "stream",
     "text": [
      "\u001b[32m[I 2022-03-27 23:03:23,310]\u001b[0m Trial 14 finished with value: 0.48387551865296996 and parameters: {'alpha': 0.1971791487268369}. Best is trial 11 with value: 0.48334494874374323.\u001b[0m\n",
      "0.37951133017781324\n",
      "Trial 15 finished with value: 0.48388229186109905 and parameters: {'alpha': 0.37951133017781324}. Best is trial 11 with value: 0.48334494874374323.\n"
     ]
    },
    {
     "name": "stderr",
     "output_type": "stream",
     "text": [
      " 80%|████████  | 16/20 [01:07<00:10,  2.65s/it]"
     ]
    },
    {
     "name": "stdout",
     "output_type": "stream",
     "text": [
      "\u001b[32m[I 2022-03-27 23:03:24,405]\u001b[0m Trial 15 finished with value: 0.48388229186109905 and parameters: {'alpha': 0.37951133017781324}. Best is trial 11 with value: 0.48334494874374323.\u001b[0m\n",
      "0.11088475269508813\n",
      "Trial 16 finished with value: 0.48387570735311536 and parameters: {'alpha': 0.11088475269508813}. Best is trial 11 with value: 0.48334494874374323.\n"
     ]
    },
    {
     "name": "stderr",
     "output_type": "stream",
     "text": [
      " 85%|████████▌ | 17/20 [01:12<00:09,  3.26s/it]"
     ]
    },
    {
     "name": "stdout",
     "output_type": "stream",
     "text": [
      "\u001b[32m[I 2022-03-27 23:03:29,083]\u001b[0m Trial 16 finished with value: 0.48387570735311536 and parameters: {'alpha': 0.11088475269508813}. Best is trial 11 with value: 0.48334494874374323.\u001b[0m\n",
      "0.6268609065783093\n",
      "Trial 17 finished with value: 0.4838954561722889 and parameters: {'alpha': 0.6268609065783093}. Best is trial 11 with value: 0.48334494874374323.\n"
     ]
    },
    {
     "name": "stderr",
     "output_type": "stream",
     "text": [
      " 90%|█████████ | 18/20 [01:13<00:05,  2.62s/it]"
     ]
    },
    {
     "name": "stdout",
     "output_type": "stream",
     "text": [
      "\u001b[32m[I 2022-03-27 23:03:30,221]\u001b[0m Trial 17 finished with value: 0.4838954561722889 and parameters: {'alpha': 0.6268609065783093}. Best is trial 11 with value: 0.48334494874374323.\u001b[0m\n",
      "0.33964515386732164\n",
      "Trial 18 finished with value: 0.4838808554846049 and parameters: {'alpha': 0.33964515386732164}. Best is trial 11 with value: 0.48334494874374323.\n"
     ]
    },
    {
     "name": "stderr",
     "output_type": "stream",
     "text": [
      " 95%|█████████▌| 19/20 [01:14<00:02,  2.17s/it]"
     ]
    },
    {
     "name": "stdout",
     "output_type": "stream",
     "text": [
      "\u001b[32m[I 2022-03-27 23:03:31,338]\u001b[0m Trial 18 finished with value: 0.4838808554846049 and parameters: {'alpha': 0.33964515386732164}. Best is trial 11 with value: 0.48334494874374323.\u001b[0m\n",
      "0.0967151963936671\n",
      "Trial 19 finished with value: 0.4838703995714432 and parameters: {'alpha': 0.0967151963936671}. Best is trial 11 with value: 0.48334494874374323.\n"
     ]
    },
    {
     "name": "stderr",
     "output_type": "stream",
     "text": [
      "100%|██████████| 20/20 [01:19<00:00,  3.98s/it]"
     ]
    },
    {
     "name": "stdout",
     "output_type": "stream",
     "text": [
      "\u001b[32m[I 2022-03-27 23:03:36,253]\u001b[0m Trial 19 finished with value: 0.4838703995714432 and parameters: {'alpha': 0.0967151963936671}. Best is trial 11 with value: 0.48334494874374323.\u001b[0m\n"
     ]
    },
    {
     "name": "stderr",
     "output_type": "stream",
     "text": [
      "\n"
     ]
    }
   ],
   "source": [
    "study.optimize(objective, n_trials = 20, show_progress_bar=True)\n",
    "\n",
    "trials_df = study.trials_dataframe()\n",
    "\n",
    "trials_df.to_excel(study_name + '.xlsx') "
   ]
  },
  {
   "cell_type": "code",
   "execution_count": 30,
   "metadata": {},
   "outputs": [
    {
     "data": {
      "text/html": [
       "<div>\n",
       "<style scoped>\n",
       "    .dataframe tbody tr th:only-of-type {\n",
       "        vertical-align: middle;\n",
       "    }\n",
       "\n",
       "    .dataframe tbody tr th {\n",
       "        vertical-align: top;\n",
       "    }\n",
       "\n",
       "    .dataframe thead th {\n",
       "        text-align: right;\n",
       "    }\n",
       "</style>\n",
       "<table border=\"1\" class=\"dataframe\">\n",
       "  <thead>\n",
       "    <tr style=\"text-align: right;\">\n",
       "      <th></th>\n",
       "      <th>number</th>\n",
       "      <th>value</th>\n",
       "      <th>datetime_start</th>\n",
       "      <th>datetime_complete</th>\n",
       "      <th>duration</th>\n",
       "      <th>params_alpha</th>\n",
       "      <th>user_attrs_train_rmse</th>\n",
       "      <th>user_attrs_val_rmse</th>\n",
       "      <th>state</th>\n",
       "    </tr>\n",
       "  </thead>\n",
       "  <tbody>\n",
       "    <tr>\n",
       "      <th>0</th>\n",
       "      <td>0</td>\n",
       "      <td>0.483903</td>\n",
       "      <td>2022-03-27 23:02:16.613908</td>\n",
       "      <td>2022-03-27 23:02:17.729245</td>\n",
       "      <td>0 days 00:00:01.115337</td>\n",
       "      <td>0.730452</td>\n",
       "      <td>0.480017</td>\n",
       "      <td>0.483903</td>\n",
       "      <td>COMPLETE</td>\n",
       "    </tr>\n",
       "    <tr>\n",
       "      <th>1</th>\n",
       "      <td>1</td>\n",
       "      <td>0.483452</td>\n",
       "      <td>2022-03-27 23:02:17.767321</td>\n",
       "      <td>2022-03-27 23:02:33.954436</td>\n",
       "      <td>0 days 00:00:16.187115</td>\n",
       "      <td>0.016968</td>\n",
       "      <td>0.479763</td>\n",
       "      <td>0.483452</td>\n",
       "      <td>COMPLETE</td>\n",
       "    </tr>\n",
       "    <tr>\n",
       "      <th>2</th>\n",
       "      <td>2</td>\n",
       "      <td>0.483926</td>\n",
       "      <td>2022-03-27 23:02:33.990030</td>\n",
       "      <td>2022-03-27 23:02:35.100936</td>\n",
       "      <td>0 days 00:00:01.110906</td>\n",
       "      <td>0.983692</td>\n",
       "      <td>0.480040</td>\n",
       "      <td>0.483926</td>\n",
       "      <td>COMPLETE</td>\n",
       "    </tr>\n",
       "    <tr>\n",
       "      <th>3</th>\n",
       "      <td>3</td>\n",
       "      <td>0.483914</td>\n",
       "      <td>2022-03-27 23:02:35.134511</td>\n",
       "      <td>2022-03-27 23:02:36.227784</td>\n",
       "      <td>0 days 00:00:01.093273</td>\n",
       "      <td>0.862374</td>\n",
       "      <td>0.480028</td>\n",
       "      <td>0.483914</td>\n",
       "      <td>COMPLETE</td>\n",
       "    </tr>\n",
       "    <tr>\n",
       "      <th>4</th>\n",
       "      <td>4</td>\n",
       "      <td>0.483908</td>\n",
       "      <td>2022-03-27 23:02:36.258593</td>\n",
       "      <td>2022-03-27 23:02:37.375907</td>\n",
       "      <td>0 days 00:00:01.117314</td>\n",
       "      <td>0.791089</td>\n",
       "      <td>0.480022</td>\n",
       "      <td>0.483908</td>\n",
       "      <td>COMPLETE</td>\n",
       "    </tr>\n",
       "    <tr>\n",
       "      <th>5</th>\n",
       "      <td>5</td>\n",
       "      <td>0.483369</td>\n",
       "      <td>2022-03-27 23:02:37.412066</td>\n",
       "      <td>2022-03-27 23:02:53.237445</td>\n",
       "      <td>0 days 00:00:15.825379</td>\n",
       "      <td>0.009949</td>\n",
       "      <td>0.479653</td>\n",
       "      <td>0.483369</td>\n",
       "      <td>COMPLETE</td>\n",
       "    </tr>\n",
       "    <tr>\n",
       "      <th>6</th>\n",
       "      <td>6</td>\n",
       "      <td>0.483886</td>\n",
       "      <td>2022-03-27 23:02:53.266452</td>\n",
       "      <td>2022-03-27 23:02:54.358355</td>\n",
       "      <td>0 days 00:00:01.091903</td>\n",
       "      <td>0.468625</td>\n",
       "      <td>0.480000</td>\n",
       "      <td>0.483886</td>\n",
       "      <td>COMPLETE</td>\n",
       "    </tr>\n",
       "    <tr>\n",
       "      <th>7</th>\n",
       "      <td>7</td>\n",
       "      <td>0.483927</td>\n",
       "      <td>2022-03-27 23:02:54.391102</td>\n",
       "      <td>2022-03-27 23:02:55.493149</td>\n",
       "      <td>0 days 00:00:01.102047</td>\n",
       "      <td>0.998016</td>\n",
       "      <td>0.480042</td>\n",
       "      <td>0.483927</td>\n",
       "      <td>COMPLETE</td>\n",
       "    </tr>\n",
       "    <tr>\n",
       "      <th>8</th>\n",
       "      <td>8</td>\n",
       "      <td>0.483888</td>\n",
       "      <td>2022-03-27 23:02:55.529674</td>\n",
       "      <td>2022-03-27 23:02:56.634525</td>\n",
       "      <td>0 days 00:00:01.104851</td>\n",
       "      <td>0.506089</td>\n",
       "      <td>0.480002</td>\n",
       "      <td>0.483888</td>\n",
       "      <td>COMPLETE</td>\n",
       "    </tr>\n",
       "    <tr>\n",
       "      <th>9</th>\n",
       "      <td>9</td>\n",
       "      <td>0.483911</td>\n",
       "      <td>2022-03-27 23:02:56.673202</td>\n",
       "      <td>2022-03-27 23:02:57.775763</td>\n",
       "      <td>0 days 00:00:01.102561</td>\n",
       "      <td>0.828103</td>\n",
       "      <td>0.480025</td>\n",
       "      <td>0.483911</td>\n",
       "      <td>COMPLETE</td>\n",
       "    </tr>\n",
       "    <tr>\n",
       "      <th>10</th>\n",
       "      <td>10</td>\n",
       "      <td>0.483622</td>\n",
       "      <td>2022-03-27 23:02:57.806050</td>\n",
       "      <td>2022-03-27 23:03:03.702609</td>\n",
       "      <td>0 days 00:00:05.896559</td>\n",
       "      <td>0.050353</td>\n",
       "      <td>0.479835</td>\n",
       "      <td>0.483622</td>\n",
       "      <td>COMPLETE</td>\n",
       "    </tr>\n",
       "    <tr>\n",
       "      <th>11</th>\n",
       "      <td>11</td>\n",
       "      <td>0.483345</td>\n",
       "      <td>2022-03-27 23:03:03.737203</td>\n",
       "      <td>2022-03-27 23:03:19.400345</td>\n",
       "      <td>0 days 00:00:15.663142</td>\n",
       "      <td>0.008170</td>\n",
       "      <td>0.479597</td>\n",
       "      <td>0.483345</td>\n",
       "      <td>COMPLETE</td>\n",
       "    </tr>\n",
       "    <tr>\n",
       "      <th>12</th>\n",
       "      <td>12</td>\n",
       "      <td>0.483876</td>\n",
       "      <td>2022-03-27 23:03:19.431342</td>\n",
       "      <td>2022-03-27 23:03:20.675514</td>\n",
       "      <td>0 days 00:00:01.244172</td>\n",
       "      <td>0.198667</td>\n",
       "      <td>0.479990</td>\n",
       "      <td>0.483876</td>\n",
       "      <td>COMPLETE</td>\n",
       "    </tr>\n",
       "    <tr>\n",
       "      <th>13</th>\n",
       "      <td>13</td>\n",
       "      <td>0.483877</td>\n",
       "      <td>2022-03-27 23:03:20.706362</td>\n",
       "      <td>2022-03-27 23:03:21.977731</td>\n",
       "      <td>0 days 00:00:01.271369</td>\n",
       "      <td>0.242669</td>\n",
       "      <td>0.479991</td>\n",
       "      <td>0.483877</td>\n",
       "      <td>COMPLETE</td>\n",
       "    </tr>\n",
       "    <tr>\n",
       "      <th>14</th>\n",
       "      <td>14</td>\n",
       "      <td>0.483876</td>\n",
       "      <td>2022-03-27 23:03:22.015722</td>\n",
       "      <td>2022-03-27 23:03:23.276615</td>\n",
       "      <td>0 days 00:00:01.260893</td>\n",
       "      <td>0.197179</td>\n",
       "      <td>0.479990</td>\n",
       "      <td>0.483876</td>\n",
       "      <td>COMPLETE</td>\n",
       "    </tr>\n",
       "    <tr>\n",
       "      <th>15</th>\n",
       "      <td>15</td>\n",
       "      <td>0.483882</td>\n",
       "      <td>2022-03-27 23:03:23.315626</td>\n",
       "      <td>2022-03-27 23:03:24.377666</td>\n",
       "      <td>0 days 00:00:01.062040</td>\n",
       "      <td>0.379511</td>\n",
       "      <td>0.479996</td>\n",
       "      <td>0.483882</td>\n",
       "      <td>COMPLETE</td>\n",
       "    </tr>\n",
       "    <tr>\n",
       "      <th>16</th>\n",
       "      <td>16</td>\n",
       "      <td>0.483876</td>\n",
       "      <td>2022-03-27 23:03:24.410713</td>\n",
       "      <td>2022-03-27 23:03:29.059970</td>\n",
       "      <td>0 days 00:00:04.649257</td>\n",
       "      <td>0.110885</td>\n",
       "      <td>0.479987</td>\n",
       "      <td>0.483876</td>\n",
       "      <td>COMPLETE</td>\n",
       "    </tr>\n",
       "    <tr>\n",
       "      <th>17</th>\n",
       "      <td>17</td>\n",
       "      <td>0.483895</td>\n",
       "      <td>2022-03-27 23:03:29.088927</td>\n",
       "      <td>2022-03-27 23:03:30.191929</td>\n",
       "      <td>0 days 00:00:01.103002</td>\n",
       "      <td>0.626861</td>\n",
       "      <td>0.480010</td>\n",
       "      <td>0.483895</td>\n",
       "      <td>COMPLETE</td>\n",
       "    </tr>\n",
       "    <tr>\n",
       "      <th>18</th>\n",
       "      <td>18</td>\n",
       "      <td>0.483881</td>\n",
       "      <td>2022-03-27 23:03:30.228119</td>\n",
       "      <td>2022-03-27 23:03:31.308780</td>\n",
       "      <td>0 days 00:00:01.080661</td>\n",
       "      <td>0.339645</td>\n",
       "      <td>0.479995</td>\n",
       "      <td>0.483881</td>\n",
       "      <td>COMPLETE</td>\n",
       "    </tr>\n",
       "    <tr>\n",
       "      <th>19</th>\n",
       "      <td>19</td>\n",
       "      <td>0.483870</td>\n",
       "      <td>2022-03-27 23:03:31.338784</td>\n",
       "      <td>2022-03-27 23:03:36.224231</td>\n",
       "      <td>0 days 00:00:04.885447</td>\n",
       "      <td>0.096715</td>\n",
       "      <td>0.479982</td>\n",
       "      <td>0.483870</td>\n",
       "      <td>COMPLETE</td>\n",
       "    </tr>\n",
       "  </tbody>\n",
       "</table>\n",
       "</div>"
      ],
      "text/plain": [
       "    number     value             datetime_start          datetime_complete  \\\n",
       "0        0  0.483903 2022-03-27 23:02:16.613908 2022-03-27 23:02:17.729245   \n",
       "1        1  0.483452 2022-03-27 23:02:17.767321 2022-03-27 23:02:33.954436   \n",
       "2        2  0.483926 2022-03-27 23:02:33.990030 2022-03-27 23:02:35.100936   \n",
       "3        3  0.483914 2022-03-27 23:02:35.134511 2022-03-27 23:02:36.227784   \n",
       "4        4  0.483908 2022-03-27 23:02:36.258593 2022-03-27 23:02:37.375907   \n",
       "5        5  0.483369 2022-03-27 23:02:37.412066 2022-03-27 23:02:53.237445   \n",
       "6        6  0.483886 2022-03-27 23:02:53.266452 2022-03-27 23:02:54.358355   \n",
       "7        7  0.483927 2022-03-27 23:02:54.391102 2022-03-27 23:02:55.493149   \n",
       "8        8  0.483888 2022-03-27 23:02:55.529674 2022-03-27 23:02:56.634525   \n",
       "9        9  0.483911 2022-03-27 23:02:56.673202 2022-03-27 23:02:57.775763   \n",
       "10      10  0.483622 2022-03-27 23:02:57.806050 2022-03-27 23:03:03.702609   \n",
       "11      11  0.483345 2022-03-27 23:03:03.737203 2022-03-27 23:03:19.400345   \n",
       "12      12  0.483876 2022-03-27 23:03:19.431342 2022-03-27 23:03:20.675514   \n",
       "13      13  0.483877 2022-03-27 23:03:20.706362 2022-03-27 23:03:21.977731   \n",
       "14      14  0.483876 2022-03-27 23:03:22.015722 2022-03-27 23:03:23.276615   \n",
       "15      15  0.483882 2022-03-27 23:03:23.315626 2022-03-27 23:03:24.377666   \n",
       "16      16  0.483876 2022-03-27 23:03:24.410713 2022-03-27 23:03:29.059970   \n",
       "17      17  0.483895 2022-03-27 23:03:29.088927 2022-03-27 23:03:30.191929   \n",
       "18      18  0.483881 2022-03-27 23:03:30.228119 2022-03-27 23:03:31.308780   \n",
       "19      19  0.483870 2022-03-27 23:03:31.338784 2022-03-27 23:03:36.224231   \n",
       "\n",
       "                 duration  params_alpha  user_attrs_train_rmse  \\\n",
       "0  0 days 00:00:01.115337      0.730452               0.480017   \n",
       "1  0 days 00:00:16.187115      0.016968               0.479763   \n",
       "2  0 days 00:00:01.110906      0.983692               0.480040   \n",
       "3  0 days 00:00:01.093273      0.862374               0.480028   \n",
       "4  0 days 00:00:01.117314      0.791089               0.480022   \n",
       "5  0 days 00:00:15.825379      0.009949               0.479653   \n",
       "6  0 days 00:00:01.091903      0.468625               0.480000   \n",
       "7  0 days 00:00:01.102047      0.998016               0.480042   \n",
       "8  0 days 00:00:01.104851      0.506089               0.480002   \n",
       "9  0 days 00:00:01.102561      0.828103               0.480025   \n",
       "10 0 days 00:00:05.896559      0.050353               0.479835   \n",
       "11 0 days 00:00:15.663142      0.008170               0.479597   \n",
       "12 0 days 00:00:01.244172      0.198667               0.479990   \n",
       "13 0 days 00:00:01.271369      0.242669               0.479991   \n",
       "14 0 days 00:00:01.260893      0.197179               0.479990   \n",
       "15 0 days 00:00:01.062040      0.379511               0.479996   \n",
       "16 0 days 00:00:04.649257      0.110885               0.479987   \n",
       "17 0 days 00:00:01.103002      0.626861               0.480010   \n",
       "18 0 days 00:00:01.080661      0.339645               0.479995   \n",
       "19 0 days 00:00:04.885447      0.096715               0.479982   \n",
       "\n",
       "    user_attrs_val_rmse     state  \n",
       "0              0.483903  COMPLETE  \n",
       "1              0.483452  COMPLETE  \n",
       "2              0.483926  COMPLETE  \n",
       "3              0.483914  COMPLETE  \n",
       "4              0.483908  COMPLETE  \n",
       "5              0.483369  COMPLETE  \n",
       "6              0.483886  COMPLETE  \n",
       "7              0.483927  COMPLETE  \n",
       "8              0.483888  COMPLETE  \n",
       "9              0.483911  COMPLETE  \n",
       "10             0.483622  COMPLETE  \n",
       "11             0.483345  COMPLETE  \n",
       "12             0.483876  COMPLETE  \n",
       "13             0.483877  COMPLETE  \n",
       "14             0.483876  COMPLETE  \n",
       "15             0.483882  COMPLETE  \n",
       "16             0.483876  COMPLETE  \n",
       "17             0.483895  COMPLETE  \n",
       "18             0.483881  COMPLETE  \n",
       "19             0.483870  COMPLETE  "
      ]
     },
     "execution_count": 30,
     "metadata": {},
     "output_type": "execute_result"
    }
   ],
   "source": [
    "trials_df"
   ]
  },
  {
   "cell_type": "code",
   "execution_count": null,
   "metadata": {},
   "outputs": [],
   "source": []
  }
 ],
 "metadata": {
  "interpreter": {
   "hash": "56ea6b1a410015e1475253f98954e9fae7f33cff6f4b2c2a2a3b952fda68b31a"
  },
  "kernelspec": {
   "display_name": "Python 3.9.7 ('base')",
   "language": "python",
   "name": "python3"
  },
  "language_info": {
   "codemirror_mode": {
    "name": "ipython",
    "version": 3
   },
   "file_extension": ".py",
   "mimetype": "text/x-python",
   "name": "python",
   "nbconvert_exporter": "python",
   "pygments_lexer": "ipython3",
   "version": "3.9.7"
  },
  "orig_nbformat": 4
 },
 "nbformat": 4,
 "nbformat_minor": 2
}
